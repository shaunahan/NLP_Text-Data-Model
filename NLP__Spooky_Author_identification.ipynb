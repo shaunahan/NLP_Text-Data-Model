{
  "nbformat": 4,
  "nbformat_minor": 0,
  "metadata": {
    "colab": {
      "name": "NLP_ Spooky Author identification",
      "provenance": [],
      "toc_visible": true,
      "authorship_tag": "ABX9TyMuGzvrmRRsmshCI2/N9gP+",
      "include_colab_link": true
    },
    "kernelspec": {
      "name": "python3",
      "display_name": "Python 3"
    },
    "language_info": {
      "name": "python"
    }
  },
  "cells": [
    {
      "cell_type": "markdown",
      "metadata": {
        "id": "view-in-github",
        "colab_type": "text"
      },
      "source": [
        "<a href=\"https://colab.research.google.com/github/shaunahan/projects/blob/main/NLP__Spooky_Author_identification.ipynb\" target=\"_parent\"><img src=\"https://colab.research.google.com/assets/colab-badge.svg\" alt=\"Open In Colab\"/></a>"
      ]
    },
    {
      "cell_type": "markdown",
      "source": [
        "# The goal of the exercise is to identify the author of the sentences in the test set.\n",
        "1. The dataset contains text from works of fiction written by spooky authors of the public domain:\n",
        "\n",
        "Edgar Allan Poe (EAP)\n",
        "HP Lovecraft (HPL)\n",
        "Mary Wollstonecraft Shelley (MWS)"
      ],
      "metadata": {
        "id": "vUURIiknFI7L"
      }
    },
    {
      "cell_type": "code",
      "source": [
        "!pip install nltk"
      ],
      "metadata": {
        "colab": {
          "base_uri": "https://localhost:8080/"
        },
        "id": "FgPP43XhGo5D",
        "outputId": "dc398a82-8335-4ed5-fd8a-063d5d5159e0"
      },
      "execution_count": 3,
      "outputs": [
        {
          "output_type": "stream",
          "name": "stdout",
          "text": [
            "Requirement already satisfied: nltk in /usr/local/lib/python3.7/dist-packages (3.2.5)\n",
            "Requirement already satisfied: six in /usr/local/lib/python3.7/dist-packages (from nltk) (1.15.0)\n"
          ]
        }
      ]
    },
    {
      "cell_type": "code",
      "source": [
        "import nltk\n",
        "from nltk.corpus import stopwords\n",
        "nltk.download('stopwords')"
      ],
      "metadata": {
        "colab": {
          "base_uri": "https://localhost:8080/"
        },
        "id": "jY504fpVFxbK",
        "outputId": "5d6f7d6f-2c59-49ea-cc62-1fbf3a7ccf64"
      },
      "execution_count": 4,
      "outputs": [
        {
          "output_type": "stream",
          "name": "stdout",
          "text": [
            "[nltk_data] Downloading package stopwords to /root/nltk_data...\n",
            "[nltk_data]   Unzipping corpora/stopwords.zip.\n"
          ]
        },
        {
          "output_type": "execute_result",
          "data": {
            "text/plain": [
              "True"
            ]
          },
          "metadata": {},
          "execution_count": 4
        }
      ]
    },
    {
      "cell_type": "code",
      "execution_count": 5,
      "metadata": {
        "id": "iAFv0o23E24q"
      },
      "outputs": [],
      "source": [
        "import numpy as np \n",
        "import pandas as pd \n",
        "import matplotlib.pyplot as plt\n",
        "import seaborn as sns\n",
        "\n",
        "import string\n",
        "import xgboost as xgb\n",
        "from sklearn.feature_extraction.text import TfidfVectorizer, CountVectorizer\n",
        "from sklearn.decomposition import TruncatedSVD\n",
        "from sklearn import ensemble, metrics, model_selection, naive_bayes\n",
        "color = sns.color_palette()\n",
        "\n",
        "%matplotlib inline\n",
        "\n",
        "eng_stopwords = set(stopwords.words(\"english\"))\n",
        "pd.options.mode.chained_assignment = None"
      ]
    },
    {
      "cell_type": "code",
      "source": [
        "## Read the train and test dataset \n",
        "from google.colab import drive\n",
        "drive.mount('/content/drive')\n",
        "\n",
        "import os\n",
        "os.chdir('/content/drive/MyDrive/Colab Notebooks')\n",
        "\n",
        "# Read the train and test dataset \n",
        "train_df = pd.read_csv(\"train_spooky.csv\")\n",
        "test_df = pd.read_csv(\"test_spooky.csv\")\n",
        "print(\"Number of rows in train dataset : \",train_df.shape[0])\n",
        "print(\"Number of rows in test dataset : \",test_df.shape[0])"
      ],
      "metadata": {
        "colab": {
          "base_uri": "https://localhost:8080/"
        },
        "id": "bXOTZsEWGtA9",
        "outputId": "70c60534-5a5b-478e-9078-b1957fe80e18"
      },
      "execution_count": 6,
      "outputs": [
        {
          "output_type": "stream",
          "name": "stdout",
          "text": [
            "Mounted at /content/drive\n",
            "Number of rows in train dataset :  19579\n",
            "Number of rows in test dataset :  8392\n"
          ]
        }
      ]
    },
    {
      "cell_type": "code",
      "source": [
        "train_df.head()"
      ],
      "metadata": {
        "colab": {
          "base_uri": "https://localhost:8080/",
          "height": 206
        },
        "id": "mANFmzQYI5Fg",
        "outputId": "dec9ce88-9380-449b-d1de-586e60232e29"
      },
      "execution_count": 7,
      "outputs": [
        {
          "output_type": "execute_result",
          "data": {
            "text/html": [
              "\n",
              "  <div id=\"df-d57baeff-345b-4603-b30e-43c0c18a3cff\">\n",
              "    <div class=\"colab-df-container\">\n",
              "      <div>\n",
              "<style scoped>\n",
              "    .dataframe tbody tr th:only-of-type {\n",
              "        vertical-align: middle;\n",
              "    }\n",
              "\n",
              "    .dataframe tbody tr th {\n",
              "        vertical-align: top;\n",
              "    }\n",
              "\n",
              "    .dataframe thead th {\n",
              "        text-align: right;\n",
              "    }\n",
              "</style>\n",
              "<table border=\"1\" class=\"dataframe\">\n",
              "  <thead>\n",
              "    <tr style=\"text-align: right;\">\n",
              "      <th></th>\n",
              "      <th>id</th>\n",
              "      <th>text</th>\n",
              "      <th>author</th>\n",
              "    </tr>\n",
              "  </thead>\n",
              "  <tbody>\n",
              "    <tr>\n",
              "      <th>0</th>\n",
              "      <td>id26305</td>\n",
              "      <td>This process, however, afforded me no means of...</td>\n",
              "      <td>EAP</td>\n",
              "    </tr>\n",
              "    <tr>\n",
              "      <th>1</th>\n",
              "      <td>id17569</td>\n",
              "      <td>It never once occurred to me that the fumbling...</td>\n",
              "      <td>HPL</td>\n",
              "    </tr>\n",
              "    <tr>\n",
              "      <th>2</th>\n",
              "      <td>id11008</td>\n",
              "      <td>In his left hand was a gold snuff box, from wh...</td>\n",
              "      <td>EAP</td>\n",
              "    </tr>\n",
              "    <tr>\n",
              "      <th>3</th>\n",
              "      <td>id27763</td>\n",
              "      <td>How lovely is spring As we looked from Windsor...</td>\n",
              "      <td>MWS</td>\n",
              "    </tr>\n",
              "    <tr>\n",
              "      <th>4</th>\n",
              "      <td>id12958</td>\n",
              "      <td>Finding nothing else, not even gold, the Super...</td>\n",
              "      <td>HPL</td>\n",
              "    </tr>\n",
              "  </tbody>\n",
              "</table>\n",
              "</div>\n",
              "      <button class=\"colab-df-convert\" onclick=\"convertToInteractive('df-d57baeff-345b-4603-b30e-43c0c18a3cff')\"\n",
              "              title=\"Convert this dataframe to an interactive table.\"\n",
              "              style=\"display:none;\">\n",
              "        \n",
              "  <svg xmlns=\"http://www.w3.org/2000/svg\" height=\"24px\"viewBox=\"0 0 24 24\"\n",
              "       width=\"24px\">\n",
              "    <path d=\"M0 0h24v24H0V0z\" fill=\"none\"/>\n",
              "    <path d=\"M18.56 5.44l.94 2.06.94-2.06 2.06-.94-2.06-.94-.94-2.06-.94 2.06-2.06.94zm-11 1L8.5 8.5l.94-2.06 2.06-.94-2.06-.94L8.5 2.5l-.94 2.06-2.06.94zm10 10l.94 2.06.94-2.06 2.06-.94-2.06-.94-.94-2.06-.94 2.06-2.06.94z\"/><path d=\"M17.41 7.96l-1.37-1.37c-.4-.4-.92-.59-1.43-.59-.52 0-1.04.2-1.43.59L10.3 9.45l-7.72 7.72c-.78.78-.78 2.05 0 2.83L4 21.41c.39.39.9.59 1.41.59.51 0 1.02-.2 1.41-.59l7.78-7.78 2.81-2.81c.8-.78.8-2.07 0-2.86zM5.41 20L4 18.59l7.72-7.72 1.47 1.35L5.41 20z\"/>\n",
              "  </svg>\n",
              "      </button>\n",
              "      \n",
              "  <style>\n",
              "    .colab-df-container {\n",
              "      display:flex;\n",
              "      flex-wrap:wrap;\n",
              "      gap: 12px;\n",
              "    }\n",
              "\n",
              "    .colab-df-convert {\n",
              "      background-color: #E8F0FE;\n",
              "      border: none;\n",
              "      border-radius: 50%;\n",
              "      cursor: pointer;\n",
              "      display: none;\n",
              "      fill: #1967D2;\n",
              "      height: 32px;\n",
              "      padding: 0 0 0 0;\n",
              "      width: 32px;\n",
              "    }\n",
              "\n",
              "    .colab-df-convert:hover {\n",
              "      background-color: #E2EBFA;\n",
              "      box-shadow: 0px 1px 2px rgba(60, 64, 67, 0.3), 0px 1px 3px 1px rgba(60, 64, 67, 0.15);\n",
              "      fill: #174EA6;\n",
              "    }\n",
              "\n",
              "    [theme=dark] .colab-df-convert {\n",
              "      background-color: #3B4455;\n",
              "      fill: #D2E3FC;\n",
              "    }\n",
              "\n",
              "    [theme=dark] .colab-df-convert:hover {\n",
              "      background-color: #434B5C;\n",
              "      box-shadow: 0px 1px 3px 1px rgba(0, 0, 0, 0.15);\n",
              "      filter: drop-shadow(0px 1px 2px rgba(0, 0, 0, 0.3));\n",
              "      fill: #FFFFFF;\n",
              "    }\n",
              "  </style>\n",
              "\n",
              "      <script>\n",
              "        const buttonEl =\n",
              "          document.querySelector('#df-d57baeff-345b-4603-b30e-43c0c18a3cff button.colab-df-convert');\n",
              "        buttonEl.style.display =\n",
              "          google.colab.kernel.accessAllowed ? 'block' : 'none';\n",
              "\n",
              "        async function convertToInteractive(key) {\n",
              "          const element = document.querySelector('#df-d57baeff-345b-4603-b30e-43c0c18a3cff');\n",
              "          const dataTable =\n",
              "            await google.colab.kernel.invokeFunction('convertToInteractive',\n",
              "                                                     [key], {});\n",
              "          if (!dataTable) return;\n",
              "\n",
              "          const docLinkHtml = 'Like what you see? Visit the ' +\n",
              "            '<a target=\"_blank\" href=https://colab.research.google.com/notebooks/data_table.ipynb>data table notebook</a>'\n",
              "            + ' to learn more about interactive tables.';\n",
              "          element.innerHTML = '';\n",
              "          dataTable['output_type'] = 'display_data';\n",
              "          await google.colab.output.renderOutput(dataTable, element);\n",
              "          const docLink = document.createElement('div');\n",
              "          docLink.innerHTML = docLinkHtml;\n",
              "          element.appendChild(docLink);\n",
              "        }\n",
              "      </script>\n",
              "    </div>\n",
              "  </div>\n",
              "  "
            ],
            "text/plain": [
              "        id                                               text author\n",
              "0  id26305  This process, however, afforded me no means of...    EAP\n",
              "1  id17569  It never once occurred to me that the fumbling...    HPL\n",
              "2  id11008  In his left hand was a gold snuff box, from wh...    EAP\n",
              "3  id27763  How lovely is spring As we looked from Windsor...    MWS\n",
              "4  id12958  Finding nothing else, not even gold, the Super...    HPL"
            ]
          },
          "metadata": {},
          "execution_count": 7
        }
      ]
    },
    {
      "cell_type": "markdown",
      "source": [
        "Check the number of occurance for each author. (balanced number of data between authors)"
      ],
      "metadata": {
        "id": "8JcyPqJnI_1o"
      }
    },
    {
      "cell_type": "code",
      "source": [
        "cnt_srs = train_df['author'].value_counts()\n",
        "\n",
        "plt.figure(figsize=(8,4))\n",
        "sns.barplot(cnt_srs.index, cnt_srs.values, alpha=0.8)\n",
        "plt.ylabel('Number of Occurrences', fontsize=12)\n",
        "plt.xlabel('Author Name', fontsize=12)\n",
        "plt.show()"
      ],
      "metadata": {
        "colab": {
          "base_uri": "https://localhost:8080/",
          "height": 338
        },
        "id": "TETgd7ZcI-re",
        "outputId": "60813936-b823-4569-d607-2ae8c1162f61"
      },
      "execution_count": 8,
      "outputs": [
        {
          "output_type": "stream",
          "name": "stderr",
          "text": [
            "/usr/local/lib/python3.7/dist-packages/seaborn/_decorators.py:43: FutureWarning: Pass the following variables as keyword args: x, y. From version 0.12, the only valid positional argument will be `data`, and passing other arguments without an explicit keyword will result in an error or misinterpretation.\n",
            "  FutureWarning\n"
          ]
        },
        {
          "output_type": "display_data",
          "data": {
            "image/png": "[encoded data removed]",
            "text/plain": [
              "<Figure size 576x288 with 1 Axes>"
            ]
          },
          "metadata": {
            "needs_background": "light"
          }
        }
      ]
    },
    {
      "cell_type": "markdown",
      "source": [
        "## Feature Engineering:\n",
        "\n",
        "1. Meta features - features that are extracted from the text like number of words, number of stop words, number of punctuations etc\n",
        "2. Text based features - features directly based on the text / words like frequency, svd, word2vec etc."
      ],
      "metadata": {
        "id": "bmSiD7QRJOXt"
      }
    },
    {
      "cell_type": "markdown",
      "source": [
        "### 1. Meta Features"
      ],
      "metadata": {
        "id": "ewCEvQwGQSlX"
      }
    },
    {
      "cell_type": "code",
      "source": [
        "# Number of words in the text \n",
        "train_df[\"num_words\"] = train_df[\"text\"].apply(lambda x: len(str(x).split()))\n",
        "test_df[\"num_words\"] = test_df[\"text\"].apply(lambda x: len(str(x).split()))\n",
        "\n",
        "# Number of unique words in the text \n",
        "train_df[\"num_unique_words\"] = train_df[\"text\"].apply(lambda x: len(set(str(x).split())))\n",
        "test_df[\"num_unique_words\"] = test_df[\"text\"].apply(lambda x: len(set(str(x).split())))\n",
        "\n",
        "# Number of characters in the text \n",
        "train_df[\"num_chars\"] = train_df[\"text\"].apply(lambda x: len(str(x)))\n",
        "test_df[\"num_chars\"] = test_df[\"text\"].apply(lambda x: len(str(x)))\n",
        "\n",
        "# Number of stopwords in the text \n",
        "train_df[\"num_stopwords\"] = train_df[\"text\"].apply(lambda x: len([w for w in str(x).lower().split() if w in eng_stopwords]))\n",
        "test_df[\"num_stopwords\"] = test_df[\"text\"].apply(lambda x: len([w for w in str(x).lower().split() if w in eng_stopwords]))\n",
        "\n",
        "# Number of punctuations in the text \n",
        "train_df[\"num_punctuations\"] =train_df['text'].apply(lambda x: len([c for c in str(x) if c in string.punctuation]) )\n",
        "test_df[\"num_punctuations\"] =test_df['text'].apply(lambda x: len([c for c in str(x) if c in string.punctuation]) )\n",
        "\n",
        "# Number of title case words in the text \n",
        "train_df[\"num_words_upper\"] = train_df[\"text\"].apply(lambda x: len([w for w in str(x).split() if w.isupper()]))\n",
        "test_df[\"num_words_upper\"] = test_df[\"text\"].apply(lambda x: len([w for w in str(x).split() if w.isupper()]))\n",
        "\n",
        "# Number of title case words in the text \n",
        "train_df[\"num_words_title\"] = train_df[\"text\"].apply(lambda x: len([w for w in str(x).split() if w.istitle()]))\n",
        "test_df[\"num_words_title\"] = test_df[\"text\"].apply(lambda x: len([w for w in str(x).split() if w.istitle()]))\n",
        "\n",
        "# Average length of the words in the text \n",
        "train_df[\"mean_word_len\"] = train_df[\"text\"].apply(lambda x: np.mean([len(w) for w in str(x).split()]))\n",
        "test_df[\"mean_word_len\"] = test_df[\"text\"].apply(lambda x: np.mean([len(w) for w in str(x).split()]))"
      ],
      "metadata": {
        "id": "WschNNicJNub"
      },
      "execution_count": 9,
      "outputs": []
    },
    {
      "cell_type": "code",
      "source": [
        "train_df['num_words'].loc[train_df['num_words']>80] = 80 #truncation for better visuals\n",
        "plt.figure(figsize=(12,8))\n",
        "sns.violinplot(x='author', y='num_words', data=train_df)\n",
        "plt.xlabel('Author Name', fontsize=12)\n",
        "plt.ylabel('Number of words in text', fontsize=12)\n",
        "plt.title(\"Number of words by author\", fontsize=15)\n",
        "plt.show()"
      ],
      "metadata": {
        "colab": {
          "base_uri": "https://localhost:8080/",
          "height": 518
        },
        "id": "E7xZq_eyJkET",
        "outputId": "acae5ceb-7acf-41b3-9a9a-689ee79a3e64"
      },
      "execution_count": 10,
      "outputs": [
        {
          "output_type": "display_data",
          "data": {
            "image/png": "[encoded data removed]",
            "text/plain": [
              "<Figure size 864x576 with 1 Axes>"
            ]
          },
          "metadata": {
            "needs_background": "light"
          }
        }
      ]
    },
    {
      "cell_type": "code",
      "source": [
        "train_df['num_punctuations'].loc[train_df['num_punctuations']>10] = 10 \n",
        "plt.figure(figsize=(12,8))\n",
        "sns.violinplot(x='author', y='num_punctuations', data=train_df)\n",
        "plt.xlabel('Author Name', fontsize=12)\n",
        "plt.ylabel('Number of puntuations in text', fontsize=12)\n",
        "plt.title(\"Number of punctuations by author\", fontsize=15)\n",
        "plt.show()"
      ],
      "metadata": {
        "colab": {
          "base_uri": "https://localhost:8080/",
          "height": 518
        },
        "id": "lQGlWdA1Jogy",
        "outputId": "f77b5518-ed98-44a8-9c53-bb052862e393"
      },
      "execution_count": 11,
      "outputs": [
        {
          "output_type": "display_data",
          "data": {
            "image/png": "[encoded data removed]",
            "text/plain": [
              "<Figure size 864x576 with 1 Axes>"
            ]
          },
          "metadata": {
            "needs_background": "light"
          }
        }
      ]
    },
    {
      "cell_type": "code",
      "source": [
        "# Prepare the data for modeling \n",
        "author_mapping_dict = {'EAP':0, 'HPL':1, 'MWS':2}\n",
        "train_y = train_df['author'].map(author_mapping_dict)\n",
        "train_id = train_df['id'].values\n",
        "test_id = test_df['id'].values\n",
        "\n",
        "# recompute the trauncated variables  \n",
        "train_df[\"num_words\"] = train_df[\"text\"].apply(lambda x: len(str(x).split()))\n",
        "test_df[\"num_words\"] = test_df[\"text\"].apply(lambda x: len(str(x).split()))\n",
        "train_df[\"mean_word_len\"] = train_df[\"text\"].apply(lambda x: np.mean([len(w) for w in str(x).split()]))\n",
        "test_df[\"mean_word_len\"] = test_df[\"text\"].apply(lambda x: np.mean([len(w) for w in str(x).split()]))\n",
        "\n",
        "cols_to_drop = ['id', 'text']\n",
        "train_X = train_df.drop(cols_to_drop+['author'], axis=1)\n",
        "test_X = test_df.drop(cols_to_drop, axis=1)"
      ],
      "metadata": {
        "id": "zgvhgL2tLtpX"
      },
      "execution_count": 12,
      "outputs": []
    },
    {
      "cell_type": "markdown",
      "source": [
        "#### Train a simple XGBoost model with these meta features."
      ],
      "metadata": {
        "id": "8ZLTnG7QaKzJ"
      }
    },
    {
      "cell_type": "code",
      "source": [
        "#train a XGBoost Model\n",
        "\n",
        "def runXGB(train_X, train_y, test_X, test_y=None, test_X2=None, seed_val=0, child=1, colsample=0.3):\n",
        "    param = {}\n",
        "    param['objective'] = 'multi:softprob'\n",
        "    param['eta'] = 0.1\n",
        "    param['max_depth'] = 3\n",
        "    param['silent'] = 1\n",
        "    param['num_class'] = 3\n",
        "    param['eval_metric'] = \"mlogloss\"\n",
        "    param['min_child_weight'] = child\n",
        "    param['subsample'] = 0.8\n",
        "    param['colsample_bytree'] = colsample\n",
        "    param['seed'] = seed_val\n",
        "    num_rounds = 2000\n",
        "\n",
        "    plst = list(param.items())\n",
        "    xgtrain = xgb.DMatrix(train_X, label=train_y)\n",
        "\n",
        "    if test_y is not None:\n",
        "        xgtest = xgb.DMatrix(test_X, label=test_y)\n",
        "        watchlist = [ (xgtrain,'train'), (xgtest, 'test') ]\n",
        "        model = xgb.train(plst, xgtrain, num_rounds, watchlist, early_stopping_rounds=50, verbose_eval=20)\n",
        "    else:\n",
        "        xgtest = xgb.DMatrix(test_X)\n",
        "        model = xgb.train(plst, xgtrain, num_rounds)\n",
        "\n",
        "    pred_test_y = model.predict(xgtest, ntree_limit = model.best_ntree_limit)\n",
        "    if test_X2 is not None:\n",
        "        xgtest2 = xgb.DMatrix(test_X2)\n",
        "        pred_test_y2 = model.predict(xgtest2, ntree_limit = model.best_ntree_limit)\n",
        "    return pred_test_y, pred_test_y2, model"
      ],
      "metadata": {
        "id": "hTt1FRupL9Jm"
      },
      "execution_count": 13,
      "outputs": []
    },
    {
      "cell_type": "markdown",
      "source": [
        "Check the first fold in the k-fold cross validation for the scores"
      ],
      "metadata": {
        "id": "p1luyj1-MECD"
      }
    },
    {
      "cell_type": "code",
      "source": [
        "kf = model_selection.KFold(n_splits=5, shuffle=True, random_state=2017)\n",
        "cv_scores = []\n",
        "pred_full_test = 0\n",
        "pred_train = np.zeros([train_df.shape[0], 3])\n",
        "for dev_index, val_index in kf.split(train_X):\n",
        "    dev_X, val_X = train_X.loc[dev_index], train_X.loc[val_index]\n",
        "    dev_y, val_y = train_y[dev_index], train_y[val_index]\n",
        "    pred_val_y, pred_test_y, model = runXGB(dev_X, dev_y, val_X, val_y, test_X, seed_val=0)\n",
        "    pred_full_test = pred_full_test + pred_test_y\n",
        "    pred_train[val_index,:] = pred_val_y\n",
        "    cv_scores.append(metrics.log_loss(val_y, pred_val_y))\n",
        "\n",
        "print(\"cv scores : \", cv_scores)"
      ],
      "metadata": {
        "colab": {
          "base_uri": "https://localhost:8080/"
        },
        "id": "8V66YeseMCOG",
        "outputId": "cf930bf7-4fe2-474a-afcc-2bc5134e7469"
      },
      "execution_count": 14,
      "outputs": [
        {
          "output_type": "stream",
          "name": "stdout",
          "text": [
            "[0]\ttrain-mlogloss:1.0937\ttest-mlogloss:1.09453\n",
            "Multiple eval metrics have been passed: 'test-mlogloss' will be used for early stopping.\n",
            "\n",
            "Will train until test-mlogloss hasn't improved in 50 rounds.\n",
            "[20]\ttrain-mlogloss:1.04138\ttest-mlogloss:1.05172\n",
            "[40]\ttrain-mlogloss:1.02343\ttest-mlogloss:1.03983\n",
            "[60]\ttrain-mlogloss:1.01043\ttest-mlogloss:1.03051\n",
            "[80]\ttrain-mlogloss:1.00001\ttest-mlogloss:1.02301\n",
            "[100]\ttrain-mlogloss:0.992056\ttest-mlogloss:1.01754\n",
            "[120]\ttrain-mlogloss:0.983985\ttest-mlogloss:1.01192\n",
            "[140]\ttrain-mlogloss:0.977474\ttest-mlogloss:1.00829\n",
            "[160]\ttrain-mlogloss:0.972334\ttest-mlogloss:1.00502\n",
            "[180]\ttrain-mlogloss:0.967121\ttest-mlogloss:1.00192\n",
            "[200]\ttrain-mlogloss:0.962841\ttest-mlogloss:1.00031\n",
            "[220]\ttrain-mlogloss:0.959004\ttest-mlogloss:0.999193\n",
            "[240]\ttrain-mlogloss:0.954595\ttest-mlogloss:0.997093\n",
            "[260]\ttrain-mlogloss:0.951285\ttest-mlogloss:0.99559\n",
            "[280]\ttrain-mlogloss:0.94809\ttest-mlogloss:0.994533\n",
            "[300]\ttrain-mlogloss:0.945068\ttest-mlogloss:0.993919\n",
            "[320]\ttrain-mlogloss:0.942006\ttest-mlogloss:0.993136\n",
            "[340]\ttrain-mlogloss:0.939507\ttest-mlogloss:0.992635\n",
            "[360]\ttrain-mlogloss:0.936864\ttest-mlogloss:0.992173\n",
            "[380]\ttrain-mlogloss:0.934201\ttest-mlogloss:0.991414\n",
            "[400]\ttrain-mlogloss:0.932033\ttest-mlogloss:0.991455\n",
            "[420]\ttrain-mlogloss:0.929671\ttest-mlogloss:0.991051\n",
            "[440]\ttrain-mlogloss:0.927679\ttest-mlogloss:0.991002\n",
            "[460]\ttrain-mlogloss:0.925484\ttest-mlogloss:0.990748\n",
            "[480]\ttrain-mlogloss:0.923565\ttest-mlogloss:0.990537\n",
            "[500]\ttrain-mlogloss:0.921469\ttest-mlogloss:0.990527\n",
            "[520]\ttrain-mlogloss:0.919458\ttest-mlogloss:0.990052\n",
            "[540]\ttrain-mlogloss:0.917517\ttest-mlogloss:0.9898\n",
            "[560]\ttrain-mlogloss:0.915624\ttest-mlogloss:0.990157\n",
            "[580]\ttrain-mlogloss:0.913879\ttest-mlogloss:0.990241\n",
            "Stopping. Best iteration:\n",
            "[541]\ttrain-mlogloss:0.917407\ttest-mlogloss:0.989751\n",
            "\n",
            "[0]\ttrain-mlogloss:1.09388\ttest-mlogloss:1.0935\n",
            "Multiple eval metrics have been passed: 'test-mlogloss' will be used for early stopping.\n",
            "\n",
            "Will train until test-mlogloss hasn't improved in 50 rounds.\n",
            "[20]\ttrain-mlogloss:1.04381\ttest-mlogloss:1.04208\n",
            "[40]\ttrain-mlogloss:1.02614\ttest-mlogloss:1.02681\n",
            "[60]\ttrain-mlogloss:1.01303\ttest-mlogloss:1.01627\n",
            "[80]\ttrain-mlogloss:1.00226\ttest-mlogloss:1.00906\n",
            "[100]\ttrain-mlogloss:0.99376\ttest-mlogloss:1.00336\n",
            "[120]\ttrain-mlogloss:0.985881\ttest-mlogloss:0.99901\n",
            "[140]\ttrain-mlogloss:0.979195\ttest-mlogloss:0.995464\n",
            "[160]\ttrain-mlogloss:0.973793\ttest-mlogloss:0.992698\n",
            "[180]\ttrain-mlogloss:0.96897\ttest-mlogloss:0.989897\n",
            "[200]\ttrain-mlogloss:0.964524\ttest-mlogloss:0.987737\n",
            "[220]\ttrain-mlogloss:0.960586\ttest-mlogloss:0.986235\n",
            "[240]\ttrain-mlogloss:0.956097\ttest-mlogloss:0.984491\n",
            "[260]\ttrain-mlogloss:0.952784\ttest-mlogloss:0.983124\n",
            "[280]\ttrain-mlogloss:0.949744\ttest-mlogloss:0.982585\n",
            "[300]\ttrain-mlogloss:0.946858\ttest-mlogloss:0.981932\n",
            "[320]\ttrain-mlogloss:0.944103\ttest-mlogloss:0.981434\n",
            "[340]\ttrain-mlogloss:0.941765\ttest-mlogloss:0.981106\n",
            "[360]\ttrain-mlogloss:0.939058\ttest-mlogloss:0.980511\n",
            "[380]\ttrain-mlogloss:0.936445\ttest-mlogloss:0.979903\n",
            "[400]\ttrain-mlogloss:0.934369\ttest-mlogloss:0.979467\n",
            "[420]\ttrain-mlogloss:0.932006\ttest-mlogloss:0.978772\n",
            "[440]\ttrain-mlogloss:0.930246\ttest-mlogloss:0.978752\n",
            "[460]\ttrain-mlogloss:0.928245\ttest-mlogloss:0.978752\n",
            "[480]\ttrain-mlogloss:0.926223\ttest-mlogloss:0.9786\n",
            "[500]\ttrain-mlogloss:0.924136\ttest-mlogloss:0.978384\n",
            "[520]\ttrain-mlogloss:0.921951\ttest-mlogloss:0.978023\n",
            "[540]\ttrain-mlogloss:0.920107\ttest-mlogloss:0.977891\n",
            "[560]\ttrain-mlogloss:0.918463\ttest-mlogloss:0.97809\n",
            "[580]\ttrain-mlogloss:0.916606\ttest-mlogloss:0.977951\n",
            "Stopping. Best iteration:\n",
            "[543]\ttrain-mlogloss:0.919884\ttest-mlogloss:0.977802\n",
            "\n",
            "[0]\ttrain-mlogloss:1.09381\ttest-mlogloss:1.09433\n",
            "Multiple eval metrics have been passed: 'test-mlogloss' will be used for early stopping.\n",
            "\n",
            "Will train until test-mlogloss hasn't improved in 50 rounds.\n",
            "[20]\ttrain-mlogloss:1.04184\ttest-mlogloss:1.05057\n",
            "[40]\ttrain-mlogloss:1.02408\ttest-mlogloss:1.03662\n",
            "[60]\ttrain-mlogloss:1.01098\ttest-mlogloss:1.0273\n",
            "[80]\ttrain-mlogloss:1.0005\ttest-mlogloss:1.02069\n",
            "[100]\ttrain-mlogloss:0.992102\ttest-mlogloss:1.01594\n",
            "[120]\ttrain-mlogloss:0.984041\ttest-mlogloss:1.01124\n",
            "[140]\ttrain-mlogloss:0.977109\ttest-mlogloss:1.00754\n",
            "[160]\ttrain-mlogloss:0.971331\ttest-mlogloss:1.00472\n",
            "[180]\ttrain-mlogloss:0.966144\ttest-mlogloss:1.0019\n",
            "[200]\ttrain-mlogloss:0.961733\ttest-mlogloss:1.00027\n",
            "[220]\ttrain-mlogloss:0.957573\ttest-mlogloss:0.998786\n",
            "[240]\ttrain-mlogloss:0.953587\ttest-mlogloss:0.996988\n",
            "[260]\ttrain-mlogloss:0.95036\ttest-mlogloss:0.996002\n",
            "[280]\ttrain-mlogloss:0.947192\ttest-mlogloss:0.99522\n",
            "[300]\ttrain-mlogloss:0.944317\ttest-mlogloss:0.994221\n",
            "[320]\ttrain-mlogloss:0.941571\ttest-mlogloss:0.993435\n",
            "[340]\ttrain-mlogloss:0.938866\ttest-mlogloss:0.992699\n",
            "[360]\ttrain-mlogloss:0.936157\ttest-mlogloss:0.992126\n",
            "[380]\ttrain-mlogloss:0.933567\ttest-mlogloss:0.991473\n",
            "[400]\ttrain-mlogloss:0.9315\ttest-mlogloss:0.991295\n",
            "[420]\ttrain-mlogloss:0.928895\ttest-mlogloss:0.990913\n",
            "[440]\ttrain-mlogloss:0.92707\ttest-mlogloss:0.990631\n",
            "[460]\ttrain-mlogloss:0.92498\ttest-mlogloss:0.990553\n",
            "[480]\ttrain-mlogloss:0.923104\ttest-mlogloss:0.99069\n",
            "[500]\ttrain-mlogloss:0.921054\ttest-mlogloss:0.990458\n",
            "Stopping. Best iteration:\n",
            "[467]\ttrain-mlogloss:0.924339\ttest-mlogloss:0.99035\n",
            "\n",
            "[0]\ttrain-mlogloss:1.09395\ttest-mlogloss:1.09397\n",
            "Multiple eval metrics have been passed: 'test-mlogloss' will be used for early stopping.\n",
            "\n",
            "Will train until test-mlogloss hasn't improved in 50 rounds.\n",
            "[20]\ttrain-mlogloss:1.04309\ttest-mlogloss:1.04646\n",
            "[40]\ttrain-mlogloss:1.02491\ttest-mlogloss:1.03275\n",
            "[60]\ttrain-mlogloss:1.01172\ttest-mlogloss:1.02323\n",
            "[80]\ttrain-mlogloss:1.00131\ttest-mlogloss:1.01576\n",
            "[100]\ttrain-mlogloss:0.993272\ttest-mlogloss:1.01033\n",
            "[120]\ttrain-mlogloss:0.985013\ttest-mlogloss:1.00492\n",
            "[140]\ttrain-mlogloss:0.978352\ttest-mlogloss:1.00131\n",
            "[160]\ttrain-mlogloss:0.972976\ttest-mlogloss:0.998292\n",
            "[180]\ttrain-mlogloss:0.968051\ttest-mlogloss:0.995736\n",
            "[200]\ttrain-mlogloss:0.963937\ttest-mlogloss:0.994179\n",
            "[220]\ttrain-mlogloss:0.959743\ttest-mlogloss:0.992566\n",
            "[240]\ttrain-mlogloss:0.955517\ttest-mlogloss:0.990371\n",
            "[260]\ttrain-mlogloss:0.952356\ttest-mlogloss:0.989632\n",
            "[280]\ttrain-mlogloss:0.949166\ttest-mlogloss:0.988264\n",
            "[300]\ttrain-mlogloss:0.946041\ttest-mlogloss:0.987498\n",
            "[320]\ttrain-mlogloss:0.943002\ttest-mlogloss:0.986388\n",
            "[340]\ttrain-mlogloss:0.940649\ttest-mlogloss:0.985833\n",
            "[360]\ttrain-mlogloss:0.937826\ttest-mlogloss:0.985138\n",
            "[380]\ttrain-mlogloss:0.935161\ttest-mlogloss:0.985022\n",
            "[400]\ttrain-mlogloss:0.933117\ttest-mlogloss:0.985204\n",
            "[420]\ttrain-mlogloss:0.930557\ttest-mlogloss:0.985062\n",
            "[440]\ttrain-mlogloss:0.928648\ttest-mlogloss:0.984872\n",
            "[460]\ttrain-mlogloss:0.926481\ttest-mlogloss:0.984883\n",
            "[480]\ttrain-mlogloss:0.924614\ttest-mlogloss:0.984676\n",
            "[500]\ttrain-mlogloss:0.922607\ttest-mlogloss:0.984308\n",
            "[520]\ttrain-mlogloss:0.920624\ttest-mlogloss:0.983956\n",
            "[540]\ttrain-mlogloss:0.9187\ttest-mlogloss:0.984031\n",
            "[560]\ttrain-mlogloss:0.91686\ttest-mlogloss:0.984172\n",
            "Stopping. Best iteration:\n",
            "[522]\ttrain-mlogloss:0.92035\ttest-mlogloss:0.983914\n",
            "\n",
            "[0]\ttrain-mlogloss:1.0946\ttest-mlogloss:1.09468\n",
            "Multiple eval metrics have been passed: 'test-mlogloss' will be used for early stopping.\n",
            "\n",
            "Will train until test-mlogloss hasn't improved in 50 rounds.\n",
            "[20]\ttrain-mlogloss:1.04729\ttest-mlogloss:1.05015\n",
            "[40]\ttrain-mlogloss:1.02536\ttest-mlogloss:1.03205\n",
            "[60]\ttrain-mlogloss:1.00942\ttest-mlogloss:1.01794\n",
            "[80]\ttrain-mlogloss:0.999817\ttest-mlogloss:1.01051\n",
            "[100]\ttrain-mlogloss:0.990282\ttest-mlogloss:1.00375\n",
            "[120]\ttrain-mlogloss:0.98368\ttest-mlogloss:0.999334\n",
            "[140]\ttrain-mlogloss:0.977748\ttest-mlogloss:0.995625\n",
            "[160]\ttrain-mlogloss:0.972532\ttest-mlogloss:0.992993\n",
            "[180]\ttrain-mlogloss:0.967432\ttest-mlogloss:0.990271\n",
            "[200]\ttrain-mlogloss:0.963519\ttest-mlogloss:0.988081\n",
            "[220]\ttrain-mlogloss:0.959543\ttest-mlogloss:0.986181\n",
            "[240]\ttrain-mlogloss:0.956037\ttest-mlogloss:0.984684\n",
            "[260]\ttrain-mlogloss:0.95255\ttest-mlogloss:0.983457\n",
            "[280]\ttrain-mlogloss:0.949126\ttest-mlogloss:0.982539\n",
            "[300]\ttrain-mlogloss:0.946092\ttest-mlogloss:0.981605\n",
            "[320]\ttrain-mlogloss:0.943574\ttest-mlogloss:0.980893\n",
            "[340]\ttrain-mlogloss:0.940854\ttest-mlogloss:0.980029\n",
            "[360]\ttrain-mlogloss:0.938301\ttest-mlogloss:0.979108\n",
            "[380]\ttrain-mlogloss:0.935789\ttest-mlogloss:0.978759\n",
            "[400]\ttrain-mlogloss:0.933429\ttest-mlogloss:0.978664\n",
            "[420]\ttrain-mlogloss:0.930676\ttest-mlogloss:0.977771\n",
            "[440]\ttrain-mlogloss:0.92851\ttest-mlogloss:0.976907\n",
            "[460]\ttrain-mlogloss:0.926457\ttest-mlogloss:0.976528\n",
            "[480]\ttrain-mlogloss:0.924516\ttest-mlogloss:0.976377\n",
            "[500]\ttrain-mlogloss:0.922496\ttest-mlogloss:0.976512\n",
            "[520]\ttrain-mlogloss:0.92046\ttest-mlogloss:0.976072\n",
            "[540]\ttrain-mlogloss:0.918702\ttest-mlogloss:0.976173\n",
            "[560]\ttrain-mlogloss:0.917223\ttest-mlogloss:0.975729\n",
            "[580]\ttrain-mlogloss:0.91564\ttest-mlogloss:0.975558\n",
            "[600]\ttrain-mlogloss:0.914033\ttest-mlogloss:0.975636\n",
            "[620]\ttrain-mlogloss:0.912489\ttest-mlogloss:0.975746\n",
            "[640]\ttrain-mlogloss:0.91108\ttest-mlogloss:0.975857\n",
            "Stopping. Best iteration:\n",
            "[594]\ttrain-mlogloss:0.914425\ttest-mlogloss:0.97551\n",
            "\n",
            "cv scores :  [0.9897508616635311, 0.9778021870711789, 0.990349854049639, 0.9839140657388793, 0.9755093063359859]\n"
          ]
        }
      ]
    },
    {
      "cell_type": "markdown",
      "source": [
        "CV score of 0.989\n"
      ],
      "metadata": {
        "id": "YJd6F05KNkvu"
      }
    },
    {
      "cell_type": "code",
      "source": [
        "fig, ax = plt.subplots(figsize=(12,12))\n",
        "xgb.plot_importance(model, max_num_features=50, height=0.8, ax=ax)\n",
        "plt.show()"
      ],
      "metadata": {
        "colab": {
          "base_uri": "https://localhost:8080/",
          "height": 730
        },
        "id": "WsSvef_eMIDe",
        "outputId": "0a37e624-2307-417a-e43f-818f430a061d"
      },
      "execution_count": 15,
      "outputs": [
        {
          "output_type": "display_data",
          "data": {
            "image/png": "[encoded data removed]",
            "text/plain": [
              "<Figure size 864x864 with 1 Axes>"
            ]
          },
          "metadata": {
            "needs_background": "light"
          }
        }
      ]
    },
    {
      "cell_type": "markdown",
      "source": [
        "Number of characters, mean word length and number of unique words turn out to be the top 3 variables. "
      ],
      "metadata": {
        "id": "Dxad53nkQL5d"
      }
    },
    {
      "cell_type": "markdown",
      "source": [
        "### Vectorize data using vectoizers"
      ],
      "metadata": {
        "id": "rfpsT3RrkWiR"
      }
    },
    {
      "cell_type": "code",
      "source": [
        "import numpy as np\n",
        "import pandas as pd\n",
        "from matplotlib import pyplot as plt\n",
        "%matplotlib inline"
      ],
      "metadata": {
        "id": "EPmJAbY-IfDp"
      },
      "execution_count": 18,
      "outputs": []
    },
    {
      "cell_type": "code",
      "source": [
        "train_df = pd.read_csv('train_spooky.csv')\n",
        "test_df = pd.read_csv('test_spooky.csv')"
      ],
      "metadata": {
        "id": "5m8Lh0mMIhRg"
      },
      "execution_count": 19,
      "outputs": []
    },
    {
      "cell_type": "code",
      "source": [
        "# Examine the data\n",
        "train_df['author'].value_counts()\n",
        "train_df['text_length'] = train_df['text'].str.len()"
      ],
      "metadata": {
        "id": "d6jyN1UWIo-i"
      },
      "execution_count": 22,
      "outputs": []
    },
    {
      "cell_type": "code",
      "source": [
        "train_df.hist()\n",
        "plt.show()"
      ],
      "metadata": {
        "colab": {
          "base_uri": "https://localhost:8080/",
          "height": 281
        },
        "id": "j5Aq6uOAIw-k",
        "outputId": "cab4d8b6-6ab7-4572-c860-e1b7f6aa782f"
      },
      "execution_count": 23,
      "outputs": [
        {
          "output_type": "display_data",
          "data": {
            "image/png": "[encoded data removed]",
            "text/plain": [
              "<Figure size 432x288 with 1 Axes>"
            ]
          },
          "metadata": {
            "needs_background": "light"
          }
        }
      ]
    },
    {
      "cell_type": "markdown",
      "source": [
        "Most of the text length are 500 characters and less."
      ],
      "metadata": {
        "id": "_b51FQ0fI0DB"
      }
    },
    {
      "cell_type": "code",
      "source": [
        "EAP = train_df[train_df['author'] =='EAP']['text_length']\n",
        "EAP.describe()\n"
      ],
      "metadata": {
        "colab": {
          "base_uri": "https://localhost:8080/"
        },
        "id": "_9hbgtW_I3US",
        "outputId": "e0bbfcd2-fde0-40d8-c646-d2077bdd34f1"
      },
      "execution_count": 25,
      "outputs": [
        {
          "output_type": "execute_result",
          "data": {
            "text/plain": [
              "count    7900.000000\n",
              "mean      142.225949\n",
              "std       105.751334\n",
              "min        21.000000\n",
              "25%        68.000000\n",
              "50%       115.000000\n",
              "75%       186.000000\n",
              "max      1533.000000\n",
              "Name: text_length, dtype: float64"
            ]
          },
          "metadata": {},
          "execution_count": 25
        }
      ]
    },
    {
      "cell_type": "code",
      "source": [
        "MWS = train_df[train_df['author'] == 'MWS']['text_length']\n",
        "MWS.describe()"
      ],
      "metadata": {
        "colab": {
          "base_uri": "https://localhost:8080/"
        },
        "id": "H23VUj1ZI7Zi",
        "outputId": "69d7ab20-dae5-4e55-9e2c-81c266b2e4eb"
      },
      "execution_count": 26,
      "outputs": [
        {
          "output_type": "execute_result",
          "data": {
            "text/plain": [
              "count    6044.000000\n",
              "mean      151.659828\n",
              "std       126.305008\n",
              "min        21.000000\n",
              "25%        84.000000\n",
              "50%       130.000000\n",
              "75%       192.000000\n",
              "max      4663.000000\n",
              "Name: text_length, dtype: float64"
            ]
          },
          "metadata": {},
          "execution_count": 26
        }
      ]
    },
    {
      "cell_type": "code",
      "source": [
        "HPL = train_df[train_df['author'] == 'HPL']['text_length']\n",
        "HPL.describe()"
      ],
      "metadata": {
        "colab": {
          "base_uri": "https://localhost:8080/"
        },
        "id": "rPz_aTJ3I9pi",
        "outputId": "95cdf09c-4d32-4325-e99c-f3a69d74d6f6"
      },
      "execution_count": 27,
      "outputs": [
        {
          "output_type": "execute_result",
          "data": {
            "text/plain": [
              "count    5635.000000\n",
              "mean      155.843478\n",
              "std        82.020647\n",
              "min        21.000000\n",
              "25%        98.000000\n",
              "50%       142.000000\n",
              "75%       196.500000\n",
              "max       900.000000\n",
              "Name: text_length, dtype: float64"
            ]
          },
          "metadata": {},
          "execution_count": 27
        }
      ]
    },
    {
      "cell_type": "code",
      "source": [
        "# Examine test dataset\n",
        "\n",
        "# text characters length in test_df \n",
        "test_df['text_length'] = test_df['text'].str.len()"
      ],
      "metadata": {
        "id": "enA0GDzLJBZV"
      },
      "execution_count": 28,
      "outputs": []
    },
    {
      "cell_type": "code",
      "source": [
        "test_df.hist()\n",
        "plt.show()"
      ],
      "metadata": {
        "colab": {
          "base_uri": "https://localhost:8080/",
          "height": 281
        },
        "id": "AzVp5XJGJJes",
        "outputId": "0eaf5383-8702-46f9-9a70-f7dc8211c392"
      },
      "execution_count": 29,
      "outputs": [
        {
          "output_type": "display_data",
          "data": {
            "image/png": "[encoded data removed]",
            "text/plain": [
              "<Figure size 432x288 with 1 Axes>"
            ]
          },
          "metadata": {
            "needs_background": "light"
          }
        }
      ]
    },
    {
      "cell_type": "markdown",
      "source": [
        "The proportion of text which are long in the test data is very similar to that in the train data"
      ],
      "metadata": {
        "id": "ZiSQBnKvJKMa"
      }
    },
    {
      "cell_type": "markdown",
      "source": [
        "#### Preprocess the dataset"
      ],
      "metadata": {
        "id": "M-6PIVN2JQb8"
      }
    },
    {
      "cell_type": "code",
      "source": [
        "# convert author labels into numerical variables\n",
        "train_df['author_num'] = train_df.author.map({'EAP':0, 'HPL':1, 'MWS':2})\n",
        "# Check conversion for first 5 rows\n",
        "train_df.head()\n",
        "\n",
        "#limit text length to 700 characters to reduce outliers\n",
        "\n",
        "train_df = train_df.rename(columns={'text':'original_text'})\n",
        "train_df['text'] = train_df['original_text'].str[:700]\n",
        "train_df['text_length'] = train_df['text'].str.len()\n",
        "\n",
        "test_df = test_df.rename(columns={'text':'original_text'})\n",
        "test_df['text'] = test_df['original_text'].str[:700]\n",
        "test_df['text_length'] = test_df['text'].str.len()"
      ],
      "metadata": {
        "id": "jJ5X2dZLJTf9"
      },
      "execution_count": 31,
      "outputs": []
    },
    {
      "cell_type": "code",
      "source": [
        "# define X and y in train data\n",
        "\n",
        "X = train_df['text']\n",
        "y = train_df['author_num']\n",
        "\n",
        "# split train data into a training and a test set\n",
        "from sklearn.model_selection import train_test_split\n",
        "X_train, X_test, y_train, y_test = train_test_split(X, y, test_size=0.2, random_state=123)\n",
        "print(X_train.shape, y_train.shape, X_test.shape, y_test.shape)\n",
        "\n",
        "# examine the class distribution in y_train and y_test\n",
        "print(y_train.value_counts(),'\\n', y_test.value_counts())"
      ],
      "metadata": {
        "colab": {
          "base_uri": "https://localhost:8080/"
        },
        "id": "KO-owlcGJd4X",
        "outputId": "641149e2-7f30-4840-910d-b884a1bc40b4"
      },
      "execution_count": 34,
      "outputs": [
        {
          "output_type": "stream",
          "name": "stdout",
          "text": [
            "(15663,) (15663,) (3916,) (3916,)\n",
            "0    6330\n",
            "2    4800\n",
            "1    4533\n",
            "Name: author_num, dtype: int64 \n",
            " 0    1570\n",
            "2    1244\n",
            "1    1102\n",
            "Name: author_num, dtype: int64\n"
          ]
        }
      ]
    },
    {
      "cell_type": "code",
      "source": [
        "#vectorize the data using Vectorizer\n",
        "\n",
        "# import and instantiate CountVectorizer\n",
        "from sklearn.feature_extraction.text import CountVectorizer\n",
        "from sklearn.feature_extraction.text import TfidfVectorizer\n",
        "# vect = CountVectorizer()\n",
        "# vect = CountVectorizer(lowercase=False, token_pattern=r'(?u)\\b\\w+\\b')\n",
        "vect = CountVectorizer(lowercase=False, token_pattern=r'(?u)\\b\\w+\\b|\\,|\\.|\\;|\\:')\n",
        "# vect = CountVectorizer(lowercase=False, token_pattern=r'(?u)\\b\\w+\\b|\\,|\\.|\\?|\\;|\\:|\\!|\\'')\n",
        "vect"
      ],
      "metadata": {
        "colab": {
          "base_uri": "https://localhost:8080/"
        },
        "id": "NBe3siw6Jqx7",
        "outputId": "5e60fd71-7be5-4680-8ba6-151a58ffcd4e"
      },
      "execution_count": 35,
      "outputs": [
        {
          "output_type": "execute_result",
          "data": {
            "text/plain": [
              "CountVectorizer(lowercase=False, token_pattern='(?u)\\\\b\\\\w+\\\\b|\\\\,|\\\\.|\\\\;|\\\\:')"
            ]
          },
          "metadata": {},
          "execution_count": 35
        }
      ]
    },
    {
      "cell_type": "code",
      "source": [
        "# learn the vocabulary in the training data\n",
        "X_train_dtm = vect.fit_transform(X_train)\n",
        "# examine the document-term matrix created from X_train\n",
        "X_train_dtm"
      ],
      "metadata": {
        "colab": {
          "base_uri": "https://localhost:8080/"
        },
        "id": "jNDErI1GkcQ-",
        "outputId": "1a010f74-1076-491f-d9f7-fb07ad5eed13"
      },
      "execution_count": 38,
      "outputs": [
        {
          "output_type": "execute_result",
          "data": {
            "text/plain": [
              "<15663x25149 sparse matrix of type '<class 'numpy.int64'>'\n",
              "\twith 390889 stored elements in Compressed Sparse Row format>"
            ]
          },
          "metadata": {},
          "execution_count": 38
        }
      ]
    },
    {
      "cell_type": "code",
      "source": [
        "# transform the test data using the earlier fitted vocabulary\n",
        "X_test_dtm = vect.transform(X_test)\n",
        "# examine the document-term matrix from X_test\n",
        "X_test_dtm"
      ],
      "metadata": {
        "colab": {
          "base_uri": "https://localhost:8080/"
        },
        "id": "ET9K_2HBkdH3",
        "outputId": "51e349ac-15a8-442d-d6ca-1bc3439abe62"
      },
      "execution_count": 39,
      "outputs": [
        {
          "output_type": "execute_result",
          "data": {
            "text/plain": [
              "<3916x25149 sparse matrix of type '<class 'numpy.int64'>'\n",
              "\twith 94477 stored elements in Compressed Sparse Row format>"
            ]
          },
          "metadata": {},
          "execution_count": 39
        }
      ]
    },
    {
      "cell_type": "code",
      "source": [
        "# Add character counts as a features to the sparse matrix using function\n",
        "def add_feature(X, feature_to_add):\n",
        "    '''\n",
        "    Returns sparse feature matrix with added feature.\n",
        "    feature_to_add can also be a list of features.\n",
        "    '''\n",
        "    from scipy.sparse import csr_matrix, hstack\n",
        "    return hstack([X, csr_matrix(feature_to_add).T], 'csr')"
      ],
      "metadata": {
        "id": "iKNJlV0LJ95I"
      },
      "execution_count": 40,
      "outputs": []
    },
    {
      "cell_type": "code",
      "source": [
        "from string import punctuation\n",
        "X_train_chars = X_train.str.len()\n",
        "X_train_punc = X_train.apply(lambda x: len([c for c in str(x) if c in punctuation]))\n",
        "X_test_chars = X_test.str.len()\n",
        "X_test_punc = X_test.apply(lambda x: len([c for c in str(x) if c in punctuation]))\n",
        "X_train_dtm = add_feature(X_train_dtm, [X_train_chars, X_train_punc])\n",
        "X_test_dtm = add_feature(X_test_dtm, [X_test_chars, X_test_punc])"
      ],
      "metadata": {
        "id": "FCCNSYqQKF2f"
      },
      "execution_count": 41,
      "outputs": []
    },
    {
      "cell_type": "code",
      "source": [
        "X_train_dtm\n",
        "X_test_dtm"
      ],
      "metadata": {
        "colab": {
          "base_uri": "https://localhost:8080/"
        },
        "id": "3ffk4UhrKHn0",
        "outputId": "365d20fe-2b1a-407e-84b0-4a2c68018f02"
      },
      "execution_count": 43,
      "outputs": [
        {
          "output_type": "execute_result",
          "data": {
            "text/plain": [
              "<3916x25151 sparse matrix of type '<class 'numpy.longlong'>'\n",
              "\twith 102308 stored elements in Compressed Sparse Row format>"
            ]
          },
          "metadata": {},
          "execution_count": 43
        }
      ]
    },
    {
      "cell_type": "code",
      "source": [
        "#Build and evaluate an author classification model using Multinomial Naive Bayes\n",
        "\n",
        "# import and instantiate the Multinomial Naive Bayes model\n",
        "from sklearn.naive_bayes import MultinomialNB\n",
        "nb = MultinomialNB()\n",
        "nb\n",
        "\n",
        "# tune hyperparameter alpha = [0.01, 0.1, 1, 10, 100]\n",
        "from sklearn.model_selection import GridSearchCV\n",
        "grid_values = {'alpha':[0.01, 0.1, 1.0, 10.0, 100.0]}\n",
        "grid_nb = GridSearchCV(nb, param_grid=grid_values, scoring='neg_log_loss')\n",
        "grid_nb.fit(X_train_dtm, y_train)\n",
        "grid_nb.best_params_"
      ],
      "metadata": {
        "colab": {
          "base_uri": "https://localhost:8080/"
        },
        "id": "mYzKkcWAKMar",
        "outputId": "611bbaab-ece8-48d2-d10b-924266870ab3"
      },
      "execution_count": 45,
      "outputs": [
        {
          "output_type": "execute_result",
          "data": {
            "text/plain": [
              "{'alpha': 1.0}"
            ]
          },
          "metadata": {},
          "execution_count": 45
        }
      ]
    },
    {
      "cell_type": "code",
      "source": [
        "# set with recommended hyperparameters\n",
        "nb = MultinomialNB(alpha=1.0)\n",
        "# train the model using X_train_dtm & y_train\n",
        "nb.fit(X_train_dtm, y_train)"
      ],
      "metadata": {
        "colab": {
          "base_uri": "https://localhost:8080/"
        },
        "id": "5TngSiiVKeVA",
        "outputId": "fcf0feac-07d8-4847-b635-4b264db3acbe"
      },
      "execution_count": 46,
      "outputs": [
        {
          "output_type": "execute_result",
          "data": {
            "text/plain": [
              "MultinomialNB()"
            ]
          },
          "metadata": {},
          "execution_count": 46
        }
      ]
    },
    {
      "cell_type": "code",
      "source": [
        "# make author (class) predictions for X_test_dtm\n",
        "y_pred_test = nb.predict(X_test_dtm)"
      ],
      "metadata": {
        "id": "ob8IJS4dKg24"
      },
      "execution_count": 47,
      "outputs": []
    },
    {
      "cell_type": "code",
      "source": [
        "# compute the accuracy of the predictions with y_test\n",
        "from sklearn import metrics\n",
        "metrics.accuracy_score(y_test, y_pred_test)\n",
        "\n",
        "# compute the accuracy of training data predictions\n",
        "y_pred_train = nb.predict(X_train_dtm)\n",
        "metrics.accuracy_score(y_train, y_pred_train)\n",
        "\n",
        "# look at the confusion matrix for y_test\n",
        "metrics.confusion_matrix(y_test, y_pred_test)\n",
        "\n",
        "# calculate predicted probabilities for X_test_dtm\n",
        "y_pred_prob = nb.predict_proba(X_test_dtm)\n",
        "y_pred_prob[:10]\n",
        "\n",
        "# compute the log loss number\n",
        "metrics.log_loss(y_test, y_pred_prob)"
      ],
      "metadata": {
        "colab": {
          "base_uri": "https://localhost:8080/"
        },
        "id": "UTgSKI4-Kkau",
        "outputId": "9800e444-c61a-4e91-9c68-0fb445ea11d2"
      },
      "execution_count": 52,
      "outputs": [
        {
          "output_type": "execute_result",
          "data": {
            "text/plain": [
              "0.4526353464718414"
            ]
          },
          "metadata": {},
          "execution_count": 52
        }
      ]
    },
    {
      "cell_type": "markdown",
      "source": [
        "#### Build and evaluate an author classification model using logistic regression\n"
      ],
      "metadata": {
        "id": "HvftLnRLKvO4"
      }
    },
    {
      "cell_type": "code",
      "source": [
        "# import and instantiate the Logistic Regression model\n",
        "from sklearn.linear_model import LogisticRegression\n",
        "logreg = LogisticRegression(random_state=8)\n",
        "logreg\n",
        "\n",
        "# tune hyperparameter\n",
        "grid_values = {'C':[0.01, 0.1, 1.0, 3.0, 5.0]}\n",
        "grid_logreg = GridSearchCV(logreg, param_grid=grid_values, scoring='neg_log_loss')\n",
        "grid_logreg.fit(X_train_dtm, y_train)\n",
        "grid_logreg.best_params_"
      ],
      "metadata": {
        "colab": {
          "base_uri": "https://localhost:8080/"
        },
        "id": "ODmkgFGlK0wv",
        "outputId": "525a5bdd-1e76-42d7-aacf-aacb822bb805"
      },
      "execution_count": 54,
      "outputs": [
        {
          "output_type": "stream",
          "name": "stderr",
          "text": [
            "/usr/local/lib/python3.7/dist-packages/sklearn/linear_model/_logistic.py:818: ConvergenceWarning: lbfgs failed to converge (status=1):\n",
            "STOP: TOTAL NO. of ITERATIONS REACHED LIMIT.\n",
            "\n",
            "Increase the number of iterations (max_iter) or scale the data as shown in:\n",
            "    https://scikit-learn.org/stable/modules/preprocessing.html\n",
            "Please also refer to the documentation for alternative solver options:\n",
            "    https://scikit-learn.org/stable/modules/linear_model.html#logistic-regression\n",
            "  extra_warning_msg=_LOGISTIC_SOLVER_CONVERGENCE_MSG,\n",
            "/usr/local/lib/python3.7/dist-packages/sklearn/linear_model/_logistic.py:818: ConvergenceWarning: lbfgs failed to converge (status=1):\n",
            "STOP: TOTAL NO. of ITERATIONS REACHED LIMIT.\n",
            "\n",
            "Increase the number of iterations (max_iter) or scale the data as shown in:\n",
            "    https://scikit-learn.org/stable/modules/preprocessing.html\n",
            "Please also refer to the documentation for alternative solver options:\n",
            "    https://scikit-learn.org/stable/modules/linear_model.html#logistic-regression\n",
            "  extra_warning_msg=_LOGISTIC_SOLVER_CONVERGENCE_MSG,\n",
            "/usr/local/lib/python3.7/dist-packages/sklearn/linear_model/_logistic.py:818: ConvergenceWarning: lbfgs failed to converge (status=1):\n",
            "STOP: TOTAL NO. of ITERATIONS REACHED LIMIT.\n",
            "\n",
            "Increase the number of iterations (max_iter) or scale the data as shown in:\n",
            "    https://scikit-learn.org/stable/modules/preprocessing.html\n",
            "Please also refer to the documentation for alternative solver options:\n",
            "    https://scikit-learn.org/stable/modules/linear_model.html#logistic-regression\n",
            "  extra_warning_msg=_LOGISTIC_SOLVER_CONVERGENCE_MSG,\n",
            "/usr/local/lib/python3.7/dist-packages/sklearn/linear_model/_logistic.py:818: ConvergenceWarning: lbfgs failed to converge (status=1):\n",
            "STOP: TOTAL NO. of ITERATIONS REACHED LIMIT.\n",
            "\n",
            "Increase the number of iterations (max_iter) or scale the data as shown in:\n",
            "    https://scikit-learn.org/stable/modules/preprocessing.html\n",
            "Please also refer to the documentation for alternative solver options:\n",
            "    https://scikit-learn.org/stable/modules/linear_model.html#logistic-regression\n",
            "  extra_warning_msg=_LOGISTIC_SOLVER_CONVERGENCE_MSG,\n",
            "/usr/local/lib/python3.7/dist-packages/sklearn/linear_model/_logistic.py:818: ConvergenceWarning: lbfgs failed to converge (status=1):\n",
            "STOP: TOTAL NO. of ITERATIONS REACHED LIMIT.\n",
            "\n",
            "Increase the number of iterations (max_iter) or scale the data as shown in:\n",
            "    https://scikit-learn.org/stable/modules/preprocessing.html\n",
            "Please also refer to the documentation for alternative solver options:\n",
            "    https://scikit-learn.org/stable/modules/linear_model.html#logistic-regression\n",
            "  extra_warning_msg=_LOGISTIC_SOLVER_CONVERGENCE_MSG,\n",
            "/usr/local/lib/python3.7/dist-packages/sklearn/linear_model/_logistic.py:818: ConvergenceWarning: lbfgs failed to converge (status=1):\n",
            "STOP: TOTAL NO. of ITERATIONS REACHED LIMIT.\n",
            "\n",
            "Increase the number of iterations (max_iter) or scale the data as shown in:\n",
            "    https://scikit-learn.org/stable/modules/preprocessing.html\n",
            "Please also refer to the documentation for alternative solver options:\n",
            "    https://scikit-learn.org/stable/modules/linear_model.html#logistic-regression\n",
            "  extra_warning_msg=_LOGISTIC_SOLVER_CONVERGENCE_MSG,\n",
            "/usr/local/lib/python3.7/dist-packages/sklearn/linear_model/_logistic.py:818: ConvergenceWarning: lbfgs failed to converge (status=1):\n",
            "STOP: TOTAL NO. of ITERATIONS REACHED LIMIT.\n",
            "\n",
            "Increase the number of iterations (max_iter) or scale the data as shown in:\n",
            "    https://scikit-learn.org/stable/modules/preprocessing.html\n",
            "Please also refer to the documentation for alternative solver options:\n",
            "    https://scikit-learn.org/stable/modules/linear_model.html#logistic-regression\n",
            "  extra_warning_msg=_LOGISTIC_SOLVER_CONVERGENCE_MSG,\n",
            "/usr/local/lib/python3.7/dist-packages/sklearn/linear_model/_logistic.py:818: ConvergenceWarning: lbfgs failed to converge (status=1):\n",
            "STOP: TOTAL NO. of ITERATIONS REACHED LIMIT.\n",
            "\n",
            "Increase the number of iterations (max_iter) or scale the data as shown in:\n",
            "    https://scikit-learn.org/stable/modules/preprocessing.html\n",
            "Please also refer to the documentation for alternative solver options:\n",
            "    https://scikit-learn.org/stable/modules/linear_model.html#logistic-regression\n",
            "  extra_warning_msg=_LOGISTIC_SOLVER_CONVERGENCE_MSG,\n",
            "/usr/local/lib/python3.7/dist-packages/sklearn/linear_model/_logistic.py:818: ConvergenceWarning: lbfgs failed to converge (status=1):\n",
            "STOP: TOTAL NO. of ITERATIONS REACHED LIMIT.\n",
            "\n",
            "Increase the number of iterations (max_iter) or scale the data as shown in:\n",
            "    https://scikit-learn.org/stable/modules/preprocessing.html\n",
            "Please also refer to the documentation for alternative solver options:\n",
            "    https://scikit-learn.org/stable/modules/linear_model.html#logistic-regression\n",
            "  extra_warning_msg=_LOGISTIC_SOLVER_CONVERGENCE_MSG,\n",
            "/usr/local/lib/python3.7/dist-packages/sklearn/linear_model/_logistic.py:818: ConvergenceWarning: lbfgs failed to converge (status=1):\n",
            "STOP: TOTAL NO. of ITERATIONS REACHED LIMIT.\n",
            "\n",
            "Increase the number of iterations (max_iter) or scale the data as shown in:\n",
            "    https://scikit-learn.org/stable/modules/preprocessing.html\n",
            "Please also refer to the documentation for alternative solver options:\n",
            "    https://scikit-learn.org/stable/modules/linear_model.html#logistic-regression\n",
            "  extra_warning_msg=_LOGISTIC_SOLVER_CONVERGENCE_MSG,\n",
            "/usr/local/lib/python3.7/dist-packages/sklearn/linear_model/_logistic.py:818: ConvergenceWarning: lbfgs failed to converge (status=1):\n",
            "STOP: TOTAL NO. of ITERATIONS REACHED LIMIT.\n",
            "\n",
            "Increase the number of iterations (max_iter) or scale the data as shown in:\n",
            "    https://scikit-learn.org/stable/modules/preprocessing.html\n",
            "Please also refer to the documentation for alternative solver options:\n",
            "    https://scikit-learn.org/stable/modules/linear_model.html#logistic-regression\n",
            "  extra_warning_msg=_LOGISTIC_SOLVER_CONVERGENCE_MSG,\n",
            "/usr/local/lib/python3.7/dist-packages/sklearn/linear_model/_logistic.py:818: ConvergenceWarning: lbfgs failed to converge (status=1):\n",
            "STOP: TOTAL NO. of ITERATIONS REACHED LIMIT.\n",
            "\n",
            "Increase the number of iterations (max_iter) or scale the data as shown in:\n",
            "    https://scikit-learn.org/stable/modules/preprocessing.html\n",
            "Please also refer to the documentation for alternative solver options:\n",
            "    https://scikit-learn.org/stable/modules/linear_model.html#logistic-regression\n",
            "  extra_warning_msg=_LOGISTIC_SOLVER_CONVERGENCE_MSG,\n",
            "/usr/local/lib/python3.7/dist-packages/sklearn/linear_model/_logistic.py:818: ConvergenceWarning: lbfgs failed to converge (status=1):\n",
            "STOP: TOTAL NO. of ITERATIONS REACHED LIMIT.\n",
            "\n",
            "Increase the number of iterations (max_iter) or scale the data as shown in:\n",
            "    https://scikit-learn.org/stable/modules/preprocessing.html\n",
            "Please also refer to the documentation for alternative solver options:\n",
            "    https://scikit-learn.org/stable/modules/linear_model.html#logistic-regression\n",
            "  extra_warning_msg=_LOGISTIC_SOLVER_CONVERGENCE_MSG,\n",
            "/usr/local/lib/python3.7/dist-packages/sklearn/linear_model/_logistic.py:818: ConvergenceWarning: lbfgs failed to converge (status=1):\n",
            "STOP: TOTAL NO. of ITERATIONS REACHED LIMIT.\n",
            "\n",
            "Increase the number of iterations (max_iter) or scale the data as shown in:\n",
            "    https://scikit-learn.org/stable/modules/preprocessing.html\n",
            "Please also refer to the documentation for alternative solver options:\n",
            "    https://scikit-learn.org/stable/modules/linear_model.html#logistic-regression\n",
            "  extra_warning_msg=_LOGISTIC_SOLVER_CONVERGENCE_MSG,\n",
            "/usr/local/lib/python3.7/dist-packages/sklearn/linear_model/_logistic.py:818: ConvergenceWarning: lbfgs failed to converge (status=1):\n",
            "STOP: TOTAL NO. of ITERATIONS REACHED LIMIT.\n",
            "\n",
            "Increase the number of iterations (max_iter) or scale the data as shown in:\n",
            "    https://scikit-learn.org/stable/modules/preprocessing.html\n",
            "Please also refer to the documentation for alternative solver options:\n",
            "    https://scikit-learn.org/stable/modules/linear_model.html#logistic-regression\n",
            "  extra_warning_msg=_LOGISTIC_SOLVER_CONVERGENCE_MSG,\n",
            "/usr/local/lib/python3.7/dist-packages/sklearn/linear_model/_logistic.py:818: ConvergenceWarning: lbfgs failed to converge (status=1):\n",
            "STOP: TOTAL NO. of ITERATIONS REACHED LIMIT.\n",
            "\n",
            "Increase the number of iterations (max_iter) or scale the data as shown in:\n",
            "    https://scikit-learn.org/stable/modules/preprocessing.html\n",
            "Please also refer to the documentation for alternative solver options:\n",
            "    https://scikit-learn.org/stable/modules/linear_model.html#logistic-regression\n",
            "  extra_warning_msg=_LOGISTIC_SOLVER_CONVERGENCE_MSG,\n",
            "/usr/local/lib/python3.7/dist-packages/sklearn/linear_model/_logistic.py:818: ConvergenceWarning: lbfgs failed to converge (status=1):\n",
            "STOP: TOTAL NO. of ITERATIONS REACHED LIMIT.\n",
            "\n",
            "Increase the number of iterations (max_iter) or scale the data as shown in:\n",
            "    https://scikit-learn.org/stable/modules/preprocessing.html\n",
            "Please also refer to the documentation for alternative solver options:\n",
            "    https://scikit-learn.org/stable/modules/linear_model.html#logistic-regression\n",
            "  extra_warning_msg=_LOGISTIC_SOLVER_CONVERGENCE_MSG,\n",
            "/usr/local/lib/python3.7/dist-packages/sklearn/linear_model/_logistic.py:818: ConvergenceWarning: lbfgs failed to converge (status=1):\n",
            "STOP: TOTAL NO. of ITERATIONS REACHED LIMIT.\n",
            "\n",
            "Increase the number of iterations (max_iter) or scale the data as shown in:\n",
            "    https://scikit-learn.org/stable/modules/preprocessing.html\n",
            "Please also refer to the documentation for alternative solver options:\n",
            "    https://scikit-learn.org/stable/modules/linear_model.html#logistic-regression\n",
            "  extra_warning_msg=_LOGISTIC_SOLVER_CONVERGENCE_MSG,\n",
            "/usr/local/lib/python3.7/dist-packages/sklearn/linear_model/_logistic.py:818: ConvergenceWarning: lbfgs failed to converge (status=1):\n",
            "STOP: TOTAL NO. of ITERATIONS REACHED LIMIT.\n",
            "\n",
            "Increase the number of iterations (max_iter) or scale the data as shown in:\n",
            "    https://scikit-learn.org/stable/modules/preprocessing.html\n",
            "Please also refer to the documentation for alternative solver options:\n",
            "    https://scikit-learn.org/stable/modules/linear_model.html#logistic-regression\n",
            "  extra_warning_msg=_LOGISTIC_SOLVER_CONVERGENCE_MSG,\n",
            "/usr/local/lib/python3.7/dist-packages/sklearn/linear_model/_logistic.py:818: ConvergenceWarning: lbfgs failed to converge (status=1):\n",
            "STOP: TOTAL NO. of ITERATIONS REACHED LIMIT.\n",
            "\n",
            "Increase the number of iterations (max_iter) or scale the data as shown in:\n",
            "    https://scikit-learn.org/stable/modules/preprocessing.html\n",
            "Please also refer to the documentation for alternative solver options:\n",
            "    https://scikit-learn.org/stable/modules/linear_model.html#logistic-regression\n",
            "  extra_warning_msg=_LOGISTIC_SOLVER_CONVERGENCE_MSG,\n",
            "/usr/local/lib/python3.7/dist-packages/sklearn/linear_model/_logistic.py:818: ConvergenceWarning: lbfgs failed to converge (status=1):\n",
            "STOP: TOTAL NO. of ITERATIONS REACHED LIMIT.\n",
            "\n",
            "Increase the number of iterations (max_iter) or scale the data as shown in:\n",
            "    https://scikit-learn.org/stable/modules/preprocessing.html\n",
            "Please also refer to the documentation for alternative solver options:\n",
            "    https://scikit-learn.org/stable/modules/linear_model.html#logistic-regression\n",
            "  extra_warning_msg=_LOGISTIC_SOLVER_CONVERGENCE_MSG,\n",
            "/usr/local/lib/python3.7/dist-packages/sklearn/linear_model/_logistic.py:818: ConvergenceWarning: lbfgs failed to converge (status=1):\n",
            "STOP: TOTAL NO. of ITERATIONS REACHED LIMIT.\n",
            "\n",
            "Increase the number of iterations (max_iter) or scale the data as shown in:\n",
            "    https://scikit-learn.org/stable/modules/preprocessing.html\n",
            "Please also refer to the documentation for alternative solver options:\n",
            "    https://scikit-learn.org/stable/modules/linear_model.html#logistic-regression\n",
            "  extra_warning_msg=_LOGISTIC_SOLVER_CONVERGENCE_MSG,\n",
            "/usr/local/lib/python3.7/dist-packages/sklearn/linear_model/_logistic.py:818: ConvergenceWarning: lbfgs failed to converge (status=1):\n",
            "STOP: TOTAL NO. of ITERATIONS REACHED LIMIT.\n",
            "\n",
            "Increase the number of iterations (max_iter) or scale the data as shown in:\n",
            "    https://scikit-learn.org/stable/modules/preprocessing.html\n",
            "Please also refer to the documentation for alternative solver options:\n",
            "    https://scikit-learn.org/stable/modules/linear_model.html#logistic-regression\n",
            "  extra_warning_msg=_LOGISTIC_SOLVER_CONVERGENCE_MSG,\n",
            "/usr/local/lib/python3.7/dist-packages/sklearn/linear_model/_logistic.py:818: ConvergenceWarning: lbfgs failed to converge (status=1):\n",
            "STOP: TOTAL NO. of ITERATIONS REACHED LIMIT.\n",
            "\n",
            "Increase the number of iterations (max_iter) or scale the data as shown in:\n",
            "    https://scikit-learn.org/stable/modules/preprocessing.html\n",
            "Please also refer to the documentation for alternative solver options:\n",
            "    https://scikit-learn.org/stable/modules/linear_model.html#logistic-regression\n",
            "  extra_warning_msg=_LOGISTIC_SOLVER_CONVERGENCE_MSG,\n",
            "/usr/local/lib/python3.7/dist-packages/sklearn/linear_model/_logistic.py:818: ConvergenceWarning: lbfgs failed to converge (status=1):\n",
            "STOP: TOTAL NO. of ITERATIONS REACHED LIMIT.\n",
            "\n",
            "Increase the number of iterations (max_iter) or scale the data as shown in:\n",
            "    https://scikit-learn.org/stable/modules/preprocessing.html\n",
            "Please also refer to the documentation for alternative solver options:\n",
            "    https://scikit-learn.org/stable/modules/linear_model.html#logistic-regression\n",
            "  extra_warning_msg=_LOGISTIC_SOLVER_CONVERGENCE_MSG,\n",
            "/usr/local/lib/python3.7/dist-packages/sklearn/linear_model/_logistic.py:818: ConvergenceWarning: lbfgs failed to converge (status=1):\n",
            "STOP: TOTAL NO. of ITERATIONS REACHED LIMIT.\n",
            "\n",
            "Increase the number of iterations (max_iter) or scale the data as shown in:\n",
            "    https://scikit-learn.org/stable/modules/preprocessing.html\n",
            "Please also refer to the documentation for alternative solver options:\n",
            "    https://scikit-learn.org/stable/modules/linear_model.html#logistic-regression\n",
            "  extra_warning_msg=_LOGISTIC_SOLVER_CONVERGENCE_MSG,\n"
          ]
        },
        {
          "output_type": "execute_result",
          "data": {
            "text/plain": [
              "{'C': 5.0}"
            ]
          },
          "metadata": {},
          "execution_count": 54
        }
      ]
    },
    {
      "cell_type": "code",
      "source": [
        "# set with recommended parameter\n",
        "logreg = LogisticRegression(C=1.0, random_state=8)\n",
        "# train the model using X_train_dtm & y_train\n",
        "logreg.fit(X_train_dtm, y_train)\n",
        "\n",
        "# make class predictions for X_test_dtm\n",
        "y_pred_test = logreg.predict(X_test_dtm)\n",
        "\n",
        "# compute the accuracy of the predictions\n",
        "metrics.accuracy_score(y_test, y_pred_test)\n",
        "\n",
        "# compute the accuracy of predictions with the training data\n",
        "y_pred_train = logreg.predict(X_train_dtm)\n",
        "metrics.accuracy_score(y_train, y_pred_train)\n",
        "\n",
        "# look at the confusion matrix for y_test\n",
        "metrics.confusion_matrix(y_test, y_pred_test)\n",
        "\n",
        "# compute the predicted probabilities for X_test_dtm\n",
        "y_pred_prob = logreg.predict_proba(X_test_dtm)\n",
        "y_pred_prob[:10]\n",
        "\n",
        "# compute the log loss number\n",
        "metrics.log_loss(y_test, y_pred_prob)"
      ],
      "metadata": {
        "colab": {
          "base_uri": "https://localhost:8080/"
        },
        "id": "eb3YQz3YMMFu",
        "outputId": "38e24b1e-d880-497e-e110-a04626786ddd"
      },
      "execution_count": 60,
      "outputs": [
        {
          "output_type": "stream",
          "name": "stderr",
          "text": [
            "/usr/local/lib/python3.7/dist-packages/sklearn/linear_model/_logistic.py:818: ConvergenceWarning: lbfgs failed to converge (status=1):\n",
            "STOP: TOTAL NO. of ITERATIONS REACHED LIMIT.\n",
            "\n",
            "Increase the number of iterations (max_iter) or scale the data as shown in:\n",
            "    https://scikit-learn.org/stable/modules/preprocessing.html\n",
            "Please also refer to the documentation for alternative solver options:\n",
            "    https://scikit-learn.org/stable/modules/linear_model.html#logistic-regression\n",
            "  extra_warning_msg=_LOGISTIC_SOLVER_CONVERGENCE_MSG,\n"
          ]
        },
        {
          "output_type": "execute_result",
          "data": {
            "text/plain": [
              "0.7317106996884598"
            ]
          },
          "metadata": {},
          "execution_count": 60
        }
      ]
    },
    {
      "cell_type": "code",
      "source": [
        "# Learn the vocabulary in the entire training data\n",
        "X_dtm = vect.fit_transform(X)\n",
        "# Examine the document-term matrix created from X_train\n",
        "X_dtm\n",
        "\n",
        "# Add character counts features\n",
        "X_chars = X.str.len()\n",
        "X_punc = X.apply(lambda x: len([c for c in str(x) if c in punctuation]))\n",
        "X_dtm = add_feature(X_dtm, [X_chars, X_punc])\n",
        "X_dtm\n",
        "\n",
        "# Train the Logistic Regression model using X_dtm & y\n",
        "logreg.fit(X_dtm, y)\n",
        "\n",
        "# Compute the accuracy of training data predictions\n",
        "y_pred_train = logreg.predict(X_dtm)\n",
        "metrics.accuracy_score(y, y_pred_train)"
      ],
      "metadata": {
        "colab": {
          "base_uri": "https://localhost:8080/"
        },
        "id": "jHlvHw7cMhJi",
        "outputId": "c2b53b46-6b24-462f-96bc-174040dff69e"
      },
      "execution_count": 61,
      "outputs": [
        {
          "output_type": "stream",
          "name": "stderr",
          "text": [
            "/usr/local/lib/python3.7/dist-packages/sklearn/linear_model/_logistic.py:818: ConvergenceWarning: lbfgs failed to converge (status=1):\n",
            "STOP: TOTAL NO. of ITERATIONS REACHED LIMIT.\n",
            "\n",
            "Increase the number of iterations (max_iter) or scale the data as shown in:\n",
            "    https://scikit-learn.org/stable/modules/preprocessing.html\n",
            "Please also refer to the documentation for alternative solver options:\n",
            "    https://scikit-learn.org/stable/modules/linear_model.html#logistic-regression\n",
            "  extra_warning_msg=_LOGISTIC_SOLVER_CONVERGENCE_MSG,\n"
          ]
        },
        {
          "output_type": "execute_result",
          "data": {
            "text/plain": [
              "0.7037642371929108"
            ]
          },
          "metadata": {},
          "execution_count": 61
        }
      ]
    },
    {
      "cell_type": "code",
      "source": [
        "#Train the logistic model with the entire dataset \"train.csv\"\n",
        "\n",
        "test = test_df['text']\n",
        "# transform the test data using the earlier fitted vocabulary, into a document-term matrix\n",
        "test_dtm = vect.transform(test)\n",
        "# examine the document-term matrix from X_test\n",
        "test_dtm\n",
        "\n",
        "# Add character counts features\n",
        "test_chars = test.str.len()\n",
        "test_punc = test.str.count(r'\\W')\n",
        "test_dtm = add_feature(test_dtm, [test_chars, test_punc])\n",
        "test_dtm\n",
        "\n",
        "# make author (class) predictions for test_dtm\n",
        "LR_y_pred = logreg.predict(test_dtm)\n",
        "print(LR_y_pred)\n",
        "\n",
        "# calculate predicted probabilities for test_dtm\n",
        "LR_y_pred_prob = logreg.predict_proba(test_dtm)\n",
        "LR_y_pred_prob[:10]"
      ],
      "metadata": {
        "colab": {
          "base_uri": "https://localhost:8080/"
        },
        "id": "Gm_L5FTGMzWE",
        "outputId": "8183bef6-df84-4b5a-be8e-d6b28665f8c9"
      },
      "execution_count": 64,
      "outputs": [
        {
          "output_type": "stream",
          "name": "stdout",
          "text": [
            "[0 0 0 ... 0 0 0]\n"
          ]
        },
        {
          "output_type": "execute_result",
          "data": {
            "text/plain": [
              "array([[9.88193431e-01, 1.05197871e-02, 1.28678217e-03],\n",
              "       [9.99998638e-01, 1.36201030e-06, 1.33348826e-13],\n",
              "       [8.69845597e-01, 1.30145075e-01, 9.32806623e-06],\n",
              "       [9.99813806e-01, 1.86180423e-04, 1.33875443e-08],\n",
              "       [8.69427630e-01, 1.00948997e-01, 2.96233733e-02],\n",
              "       [9.99950906e-01, 4.90545629e-05, 3.91367580e-08],\n",
              "       [9.98022774e-01, 1.74882614e-03, 2.28399595e-04],\n",
              "       [9.66130663e-01, 3.37023439e-02, 1.66992979e-04],\n",
              "       [9.99377568e-01, 6.22114661e-04, 3.17636613e-07],\n",
              "       [9.61362532e-01, 2.55942562e-02, 1.30432116e-02]])"
            ]
          },
          "metadata": {},
          "execution_count": 64
        }
      ]
    },
    {
      "cell_type": "code",
      "source": [
        "# train the Naive Bayes model with the entire dataset \"train.csv\"\n",
        "\n",
        "nb.fit(X_dtm, y)\n",
        "\n",
        "# compute the accuracy of training data predictions\n",
        "y_pred_train = nb.predict(X_dtm)\n",
        "metrics.accuracy_score(y, y_pred_train)\n",
        "\n",
        "#make predictions on test data\n",
        "NB_y_pred = nb.predict(test_dtm)\n",
        "print(NB_y_pred)\n",
        "\n",
        "# calculate predicted probablilities for test_dtm\n",
        "NB_y_pred_prob = nb.predict_proba(test_dtm)\n",
        "NB_y_pred_prob[:10]"
      ],
      "metadata": {
        "colab": {
          "base_uri": "https://localhost:8080/"
        },
        "id": "f2fPkQAwNARD",
        "outputId": "5ca241c2-d079-4c4e-cbf1-bbceec69e15b"
      },
      "execution_count": 66,
      "outputs": [
        {
          "output_type": "stream",
          "name": "stdout",
          "text": [
            "[2 0 0 ... 0 2 0]\n"
          ]
        },
        {
          "output_type": "execute_result",
          "data": {
            "text/plain": [
              "array([[1.07498591e-02, 7.58565047e-07, 9.89249382e-01],\n",
              "       [1.00000000e+00, 8.91398603e-16, 2.87596702e-12],\n",
              "       [9.95430753e-01, 4.55817237e-03, 1.10750519e-05],\n",
              "       [9.99999809e-01, 1.87870429e-07, 2.75662689e-09],\n",
              "       [9.90005669e-01, 2.33137445e-04, 9.76119392e-03],\n",
              "       [9.99999878e-01, 5.40447643e-08, 6.76049106e-08],\n",
              "       [9.99295550e-01, 2.74130306e-04, 4.30319506e-04],\n",
              "       [1.50533210e-03, 5.49886522e-07, 9.98494118e-01],\n",
              "       [9.99999996e-01, 3.52726854e-09, 2.18361865e-11],\n",
              "       [9.87811244e-01, 6.03281072e-04, 1.15854745e-02]])"
            ]
          },
          "metadata": {},
          "execution_count": 66
        }
      ]
    },
    {
      "cell_type": "code",
      "source": [
        " # combine the probabilities from the two models\n",
        "\n",
        " alpha = 0.6\n",
        "y_pred_prob = ((1-alpha)*LR_y_pred_prob + alpha*NB_y_pred_prob)\n",
        "y_pred_prob[:10]\n",
        "\n",
        "result = pd.DataFrame(y_pred_prob, columns=['EAP','HPL','MWS'])\n",
        "result.insert(0, 'id', test_df['id'])\n",
        "result.head()"
      ],
      "metadata": {
        "colab": {
          "base_uri": "https://localhost:8080/",
          "height": 206
        },
        "id": "ZaWKbgpxNR0P",
        "outputId": "078c7cd7-d486-4d52-8a6f-9f5b2b0aa9be"
      },
      "execution_count": 70,
      "outputs": [
        {
          "output_type": "execute_result",
          "data": {
            "text/html": [
              "\n",
              "  <div id=\"df-33ed24ac-9d69-44ea-be8d-73102ca95d46\">\n",
              "    <div class=\"colab-df-container\">\n",
              "      <div>\n",
              "<style scoped>\n",
              "    .dataframe tbody tr th:only-of-type {\n",
              "        vertical-align: middle;\n",
              "    }\n",
              "\n",
              "    .dataframe tbody tr th {\n",
              "        vertical-align: top;\n",
              "    }\n",
              "\n",
              "    .dataframe thead th {\n",
              "        text-align: right;\n",
              "    }\n",
              "</style>\n",
              "<table border=\"1\" class=\"dataframe\">\n",
              "  <thead>\n",
              "    <tr style=\"text-align: right;\">\n",
              "      <th></th>\n",
              "      <th>id</th>\n",
              "      <th>EAP</th>\n",
              "      <th>HPL</th>\n",
              "      <th>MWS</th>\n",
              "    </tr>\n",
              "  </thead>\n",
              "  <tbody>\n",
              "    <tr>\n",
              "      <th>0</th>\n",
              "      <td>id02310</td>\n",
              "      <td>0.401727</td>\n",
              "      <td>4.208370e-03</td>\n",
              "      <td>5.940643e-01</td>\n",
              "    </tr>\n",
              "    <tr>\n",
              "      <th>1</th>\n",
              "      <td>id24541</td>\n",
              "      <td>0.999999</td>\n",
              "      <td>5.448041e-07</td>\n",
              "      <td>1.778920e-12</td>\n",
              "    </tr>\n",
              "    <tr>\n",
              "      <th>2</th>\n",
              "      <td>id00134</td>\n",
              "      <td>0.945197</td>\n",
              "      <td>5.479293e-02</td>\n",
              "      <td>1.037626e-05</td>\n",
              "    </tr>\n",
              "    <tr>\n",
              "      <th>3</th>\n",
              "      <td>id27757</td>\n",
              "      <td>0.999925</td>\n",
              "      <td>7.458489e-05</td>\n",
              "      <td>7.008994e-09</td>\n",
              "    </tr>\n",
              "    <tr>\n",
              "      <th>4</th>\n",
              "      <td>id04081</td>\n",
              "      <td>0.941774</td>\n",
              "      <td>4.051948e-02</td>\n",
              "      <td>1.770607e-02</td>\n",
              "    </tr>\n",
              "  </tbody>\n",
              "</table>\n",
              "</div>\n",
              "      <button class=\"colab-df-convert\" onclick=\"convertToInteractive('df-33ed24ac-9d69-44ea-be8d-73102ca95d46')\"\n",
              "              title=\"Convert this dataframe to an interactive table.\"\n",
              "              style=\"display:none;\">\n",
              "        \n",
              "  <svg xmlns=\"http://www.w3.org/2000/svg\" height=\"24px\"viewBox=\"0 0 24 24\"\n",
              "       width=\"24px\">\n",
              "    <path d=\"M0 0h24v24H0V0z\" fill=\"none\"/>\n",
              "    <path d=\"M18.56 5.44l.94 2.06.94-2.06 2.06-.94-2.06-.94-.94-2.06-.94 2.06-2.06.94zm-11 1L8.5 8.5l.94-2.06 2.06-.94-2.06-.94L8.5 2.5l-.94 2.06-2.06.94zm10 10l.94 2.06.94-2.06 2.06-.94-2.06-.94-.94-2.06-.94 2.06-2.06.94z\"/><path d=\"M17.41 7.96l-1.37-1.37c-.4-.4-.92-.59-1.43-.59-.52 0-1.04.2-1.43.59L10.3 9.45l-7.72 7.72c-.78.78-.78 2.05 0 2.83L4 21.41c.39.39.9.59 1.41.59.51 0 1.02-.2 1.41-.59l7.78-7.78 2.81-2.81c.8-.78.8-2.07 0-2.86zM5.41 20L4 18.59l7.72-7.72 1.47 1.35L5.41 20z\"/>\n",
              "  </svg>\n",
              "      </button>\n",
              "      \n",
              "  <style>\n",
              "    .colab-df-container {\n",
              "      display:flex;\n",
              "      flex-wrap:wrap;\n",
              "      gap: 12px;\n",
              "    }\n",
              "\n",
              "    .colab-df-convert {\n",
              "      background-color: #E8F0FE;\n",
              "      border: none;\n",
              "      border-radius: 50%;\n",
              "      cursor: pointer;\n",
              "      display: none;\n",
              "      fill: #1967D2;\n",
              "      height: 32px;\n",
              "      padding: 0 0 0 0;\n",
              "      width: 32px;\n",
              "    }\n",
              "\n",
              "    .colab-df-convert:hover {\n",
              "      background-color: #E2EBFA;\n",
              "      box-shadow: 0px 1px 2px rgba(60, 64, 67, 0.3), 0px 1px 3px 1px rgba(60, 64, 67, 0.15);\n",
              "      fill: #174EA6;\n",
              "    }\n",
              "\n",
              "    [theme=dark] .colab-df-convert {\n",
              "      background-color: #3B4455;\n",
              "      fill: #D2E3FC;\n",
              "    }\n",
              "\n",
              "    [theme=dark] .colab-df-convert:hover {\n",
              "      background-color: #434B5C;\n",
              "      box-shadow: 0px 1px 3px 1px rgba(0, 0, 0, 0.15);\n",
              "      filter: drop-shadow(0px 1px 2px rgba(0, 0, 0, 0.3));\n",
              "      fill: #FFFFFF;\n",
              "    }\n",
              "  </style>\n",
              "\n",
              "      <script>\n",
              "        const buttonEl =\n",
              "          document.querySelector('#df-33ed24ac-9d69-44ea-be8d-73102ca95d46 button.colab-df-convert');\n",
              "        buttonEl.style.display =\n",
              "          google.colab.kernel.accessAllowed ? 'block' : 'none';\n",
              "\n",
              "        async function convertToInteractive(key) {\n",
              "          const element = document.querySelector('#df-33ed24ac-9d69-44ea-be8d-73102ca95d46');\n",
              "          const dataTable =\n",
              "            await google.colab.kernel.invokeFunction('convertToInteractive',\n",
              "                                                     [key], {});\n",
              "          if (!dataTable) return;\n",
              "\n",
              "          const docLinkHtml = 'Like what you see? Visit the ' +\n",
              "            '<a target=\"_blank\" href=https://colab.research.google.com/notebooks/data_table.ipynb>data table notebook</a>'\n",
              "            + ' to learn more about interactive tables.';\n",
              "          element.innerHTML = '';\n",
              "          dataTable['output_type'] = 'display_data';\n",
              "          await google.colab.output.renderOutput(dataTable, element);\n",
              "          const docLink = document.createElement('div');\n",
              "          docLink.innerHTML = docLinkHtml;\n",
              "          element.appendChild(docLink);\n",
              "        }\n",
              "      </script>\n",
              "    </div>\n",
              "  </div>\n",
              "  "
            ],
            "text/plain": [
              "        id       EAP           HPL           MWS\n",
              "0  id02310  0.401727  4.208370e-03  5.940643e-01\n",
              "1  id24541  0.999999  5.448041e-07  1.778920e-12\n",
              "2  id00134  0.945197  5.479293e-02  1.037626e-05\n",
              "3  id27757  0.999925  7.458489e-05  7.008994e-09\n",
              "4  id04081  0.941774  4.051948e-02  1.770607e-02"
            ]
          },
          "metadata": {},
          "execution_count": 70
        }
      ]
    },
    {
      "cell_type": "markdown",
      "source": [
        "### Exploring sklearn pipelines"
      ],
      "metadata": {
        "id": "LZd2gw9NP1xe"
      }
    },
    {
      "cell_type": "code",
      "source": [
        "import numpy as np \n",
        "import pandas as pd \n",
        "\n",
        "df = pd.read_csv('train_spooky.csv')\n",
        "\n",
        "df.dropna(axis=0)\n",
        "df.set_index('id', inplace = True)\n",
        "\n",
        "df.head()"
      ],
      "metadata": {
        "colab": {
          "base_uri": "https://localhost:8080/",
          "height": 237
        },
        "id": "oNnTg7BgPzD3",
        "outputId": "a9c8a0d4-0434-482b-9797-56f568fb2ea1"
      },
      "execution_count": 72,
      "outputs": [
        {
          "output_type": "execute_result",
          "data": {
            "text/html": [
              "\n",
              "  <div id=\"df-e2aefa02-ab74-426e-9ea7-42202980effd\">\n",
              "    <div class=\"colab-df-container\">\n",
              "      <div>\n",
              "<style scoped>\n",
              "    .dataframe tbody tr th:only-of-type {\n",
              "        vertical-align: middle;\n",
              "    }\n",
              "\n",
              "    .dataframe tbody tr th {\n",
              "        vertical-align: top;\n",
              "    }\n",
              "\n",
              "    .dataframe thead th {\n",
              "        text-align: right;\n",
              "    }\n",
              "</style>\n",
              "<table border=\"1\" class=\"dataframe\">\n",
              "  <thead>\n",
              "    <tr style=\"text-align: right;\">\n",
              "      <th></th>\n",
              "      <th>text</th>\n",
              "      <th>author</th>\n",
              "    </tr>\n",
              "    <tr>\n",
              "      <th>id</th>\n",
              "      <th></th>\n",
              "      <th></th>\n",
              "    </tr>\n",
              "  </thead>\n",
              "  <tbody>\n",
              "    <tr>\n",
              "      <th>id26305</th>\n",
              "      <td>This process, however, afforded me no means of...</td>\n",
              "      <td>EAP</td>\n",
              "    </tr>\n",
              "    <tr>\n",
              "      <th>id17569</th>\n",
              "      <td>It never once occurred to me that the fumbling...</td>\n",
              "      <td>HPL</td>\n",
              "    </tr>\n",
              "    <tr>\n",
              "      <th>id11008</th>\n",
              "      <td>In his left hand was a gold snuff box, from wh...</td>\n",
              "      <td>EAP</td>\n",
              "    </tr>\n",
              "    <tr>\n",
              "      <th>id27763</th>\n",
              "      <td>How lovely is spring As we looked from Windsor...</td>\n",
              "      <td>MWS</td>\n",
              "    </tr>\n",
              "    <tr>\n",
              "      <th>id12958</th>\n",
              "      <td>Finding nothing else, not even gold, the Super...</td>\n",
              "      <td>HPL</td>\n",
              "    </tr>\n",
              "  </tbody>\n",
              "</table>\n",
              "</div>\n",
              "      <button class=\"colab-df-convert\" onclick=\"convertToInteractive('df-e2aefa02-ab74-426e-9ea7-42202980effd')\"\n",
              "              title=\"Convert this dataframe to an interactive table.\"\n",
              "              style=\"display:none;\">\n",
              "        \n",
              "  <svg xmlns=\"http://www.w3.org/2000/svg\" height=\"24px\"viewBox=\"0 0 24 24\"\n",
              "       width=\"24px\">\n",
              "    <path d=\"M0 0h24v24H0V0z\" fill=\"none\"/>\n",
              "    <path d=\"M18.56 5.44l.94 2.06.94-2.06 2.06-.94-2.06-.94-.94-2.06-.94 2.06-2.06.94zm-11 1L8.5 8.5l.94-2.06 2.06-.94-2.06-.94L8.5 2.5l-.94 2.06-2.06.94zm10 10l.94 2.06.94-2.06 2.06-.94-2.06-.94-.94-2.06-.94 2.06-2.06.94z\"/><path d=\"M17.41 7.96l-1.37-1.37c-.4-.4-.92-.59-1.43-.59-.52 0-1.04.2-1.43.59L10.3 9.45l-7.72 7.72c-.78.78-.78 2.05 0 2.83L4 21.41c.39.39.9.59 1.41.59.51 0 1.02-.2 1.41-.59l7.78-7.78 2.81-2.81c.8-.78.8-2.07 0-2.86zM5.41 20L4 18.59l7.72-7.72 1.47 1.35L5.41 20z\"/>\n",
              "  </svg>\n",
              "      </button>\n",
              "      \n",
              "  <style>\n",
              "    .colab-df-container {\n",
              "      display:flex;\n",
              "      flex-wrap:wrap;\n",
              "      gap: 12px;\n",
              "    }\n",
              "\n",
              "    .colab-df-convert {\n",
              "      background-color: #E8F0FE;\n",
              "      border: none;\n",
              "      border-radius: 50%;\n",
              "      cursor: pointer;\n",
              "      display: none;\n",
              "      fill: #1967D2;\n",
              "      height: 32px;\n",
              "      padding: 0 0 0 0;\n",
              "      width: 32px;\n",
              "    }\n",
              "\n",
              "    .colab-df-convert:hover {\n",
              "      background-color: #E2EBFA;\n",
              "      box-shadow: 0px 1px 2px rgba(60, 64, 67, 0.3), 0px 1px 3px 1px rgba(60, 64, 67, 0.15);\n",
              "      fill: #174EA6;\n",
              "    }\n",
              "\n",
              "    [theme=dark] .colab-df-convert {\n",
              "      background-color: #3B4455;\n",
              "      fill: #D2E3FC;\n",
              "    }\n",
              "\n",
              "    [theme=dark] .colab-df-convert:hover {\n",
              "      background-color: #434B5C;\n",
              "      box-shadow: 0px 1px 3px 1px rgba(0, 0, 0, 0.15);\n",
              "      filter: drop-shadow(0px 1px 2px rgba(0, 0, 0, 0.3));\n",
              "      fill: #FFFFFF;\n",
              "    }\n",
              "  </style>\n",
              "\n",
              "      <script>\n",
              "        const buttonEl =\n",
              "          document.querySelector('#df-e2aefa02-ab74-426e-9ea7-42202980effd button.colab-df-convert');\n",
              "        buttonEl.style.display =\n",
              "          google.colab.kernel.accessAllowed ? 'block' : 'none';\n",
              "\n",
              "        async function convertToInteractive(key) {\n",
              "          const element = document.querySelector('#df-e2aefa02-ab74-426e-9ea7-42202980effd');\n",
              "          const dataTable =\n",
              "            await google.colab.kernel.invokeFunction('convertToInteractive',\n",
              "                                                     [key], {});\n",
              "          if (!dataTable) return;\n",
              "\n",
              "          const docLinkHtml = 'Like what you see? Visit the ' +\n",
              "            '<a target=\"_blank\" href=https://colab.research.google.com/notebooks/data_table.ipynb>data table notebook</a>'\n",
              "            + ' to learn more about interactive tables.';\n",
              "          element.innerHTML = '';\n",
              "          dataTable['output_type'] = 'display_data';\n",
              "          await google.colab.output.renderOutput(dataTable, element);\n",
              "          const docLink = document.createElement('div');\n",
              "          docLink.innerHTML = docLinkHtml;\n",
              "          element.appendChild(docLink);\n",
              "        }\n",
              "      </script>\n",
              "    </div>\n",
              "  </div>\n",
              "  "
            ],
            "text/plain": [
              "                                                      text author\n",
              "id                                                               \n",
              "id26305  This process, however, afforded me no means of...    EAP\n",
              "id17569  It never once occurred to me that the fumbling...    HPL\n",
              "id11008  In his left hand was a gold snuff box, from wh...    EAP\n",
              "id27763  How lovely is spring As we looked from Windsor...    MWS\n",
              "id12958  Finding nothing else, not even gold, the Super...    HPL"
            ]
          },
          "metadata": {},
          "execution_count": 72
        }
      ]
    },
    {
      "cell_type": "code",
      "source": [
        "import re\n",
        "from nltk.corpus import stopwords\n",
        "\n",
        "stopWords = set(stopwords.words('english'))\n",
        "\n",
        "#creating a function to encapsulate preprocessing, to mkae it easy to replicate on  submission data\n",
        "def processing(df):\n",
        "    #lowering and removing punctuation\n",
        "    df['processed'] = df['text'].apply(lambda x: re.sub(r'[^\\w\\s]','', x.lower()))\n",
        "    \n",
        "    #numerical feature engineering\n",
        "    #total length of sentence\n",
        "    df['length'] = df['processed'].apply(lambda x: len(x))\n",
        "    #get number of words\n",
        "    df['words'] = df['processed'].apply(lambda x: len(x.split(' ')))\n",
        "    df['words_not_stopword'] = df['processed'].apply(lambda x: len([t for t in x.split(' ') if t not in stopWords]))\n",
        "    #get the average word length\n",
        "    df['avg_word_length'] = df['processed'].apply(lambda x: np.mean([len(t) for t in x.split(' ') if t not in stopWords]) if len([len(t) for t in x.split(' ') if t not in stopWords]) > 0 else 0)\n",
        "    #get the average word length\n",
        "    df['commas'] = df['text'].apply(lambda x: x.count(','))\n",
        "\n",
        "    return(df)\n",
        "\n",
        "df = processing(df)\n",
        "\n",
        "df.head()"
      ],
      "metadata": {
        "colab": {
          "base_uri": "https://localhost:8080/",
          "height": 282
        },
        "id": "jDoydOLuQA3T",
        "outputId": "e167d7a8-c830-4884-f782-2a4b31569d03"
      },
      "execution_count": 73,
      "outputs": [
        {
          "output_type": "execute_result",
          "data": {
            "text/html": [
              "\n",
              "  <div id=\"df-7eff1fc4-acf5-4985-a4d2-c5df2a0d683a\">\n",
              "    <div class=\"colab-df-container\">\n",
              "      <div>\n",
              "<style scoped>\n",
              "    .dataframe tbody tr th:only-of-type {\n",
              "        vertical-align: middle;\n",
              "    }\n",
              "\n",
              "    .dataframe tbody tr th {\n",
              "        vertical-align: top;\n",
              "    }\n",
              "\n",
              "    .dataframe thead th {\n",
              "        text-align: right;\n",
              "    }\n",
              "</style>\n",
              "<table border=\"1\" class=\"dataframe\">\n",
              "  <thead>\n",
              "    <tr style=\"text-align: right;\">\n",
              "      <th></th>\n",
              "      <th>text</th>\n",
              "      <th>author</th>\n",
              "      <th>processed</th>\n",
              "      <th>length</th>\n",
              "      <th>words</th>\n",
              "      <th>words_not_stopword</th>\n",
              "      <th>avg_word_length</th>\n",
              "      <th>commas</th>\n",
              "    </tr>\n",
              "    <tr>\n",
              "      <th>id</th>\n",
              "      <th></th>\n",
              "      <th></th>\n",
              "      <th></th>\n",
              "      <th></th>\n",
              "      <th></th>\n",
              "      <th></th>\n",
              "      <th></th>\n",
              "      <th></th>\n",
              "    </tr>\n",
              "  </thead>\n",
              "  <tbody>\n",
              "    <tr>\n",
              "      <th>id26305</th>\n",
              "      <td>This process, however, afforded me no means of...</td>\n",
              "      <td>EAP</td>\n",
              "      <td>this process however afforded me no means of a...</td>\n",
              "      <td>224</td>\n",
              "      <td>41</td>\n",
              "      <td>21</td>\n",
              "      <td>6.380952</td>\n",
              "      <td>4</td>\n",
              "    </tr>\n",
              "    <tr>\n",
              "      <th>id17569</th>\n",
              "      <td>It never once occurred to me that the fumbling...</td>\n",
              "      <td>HPL</td>\n",
              "      <td>it never once occurred to me that the fumbling...</td>\n",
              "      <td>70</td>\n",
              "      <td>14</td>\n",
              "      <td>6</td>\n",
              "      <td>6.166667</td>\n",
              "      <td>0</td>\n",
              "    </tr>\n",
              "    <tr>\n",
              "      <th>id11008</th>\n",
              "      <td>In his left hand was a gold snuff box, from wh...</td>\n",
              "      <td>EAP</td>\n",
              "      <td>in his left hand was a gold snuff box from whi...</td>\n",
              "      <td>195</td>\n",
              "      <td>36</td>\n",
              "      <td>19</td>\n",
              "      <td>5.947368</td>\n",
              "      <td>4</td>\n",
              "    </tr>\n",
              "    <tr>\n",
              "      <th>id27763</th>\n",
              "      <td>How lovely is spring As we looked from Windsor...</td>\n",
              "      <td>MWS</td>\n",
              "      <td>how lovely is spring as we looked from windsor...</td>\n",
              "      <td>202</td>\n",
              "      <td>34</td>\n",
              "      <td>21</td>\n",
              "      <td>6.476190</td>\n",
              "      <td>3</td>\n",
              "    </tr>\n",
              "    <tr>\n",
              "      <th>id12958</th>\n",
              "      <td>Finding nothing else, not even gold, the Super...</td>\n",
              "      <td>HPL</td>\n",
              "      <td>finding nothing else not even gold the superin...</td>\n",
              "      <td>170</td>\n",
              "      <td>27</td>\n",
              "      <td>16</td>\n",
              "      <td>7.187500</td>\n",
              "      <td>2</td>\n",
              "    </tr>\n",
              "  </tbody>\n",
              "</table>\n",
              "</div>\n",
              "      <button class=\"colab-df-convert\" onclick=\"convertToInteractive('df-7eff1fc4-acf5-4985-a4d2-c5df2a0d683a')\"\n",
              "              title=\"Convert this dataframe to an interactive table.\"\n",
              "              style=\"display:none;\">\n",
              "        \n",
              "  <svg xmlns=\"http://www.w3.org/2000/svg\" height=\"24px\"viewBox=\"0 0 24 24\"\n",
              "       width=\"24px\">\n",
              "    <path d=\"M0 0h24v24H0V0z\" fill=\"none\"/>\n",
              "    <path d=\"M18.56 5.44l.94 2.06.94-2.06 2.06-.94-2.06-.94-.94-2.06-.94 2.06-2.06.94zm-11 1L8.5 8.5l.94-2.06 2.06-.94-2.06-.94L8.5 2.5l-.94 2.06-2.06.94zm10 10l.94 2.06.94-2.06 2.06-.94-2.06-.94-.94-2.06-.94 2.06-2.06.94z\"/><path d=\"M17.41 7.96l-1.37-1.37c-.4-.4-.92-.59-1.43-.59-.52 0-1.04.2-1.43.59L10.3 9.45l-7.72 7.72c-.78.78-.78 2.05 0 2.83L4 21.41c.39.39.9.59 1.41.59.51 0 1.02-.2 1.41-.59l7.78-7.78 2.81-2.81c.8-.78.8-2.07 0-2.86zM5.41 20L4 18.59l7.72-7.72 1.47 1.35L5.41 20z\"/>\n",
              "  </svg>\n",
              "      </button>\n",
              "      \n",
              "  <style>\n",
              "    .colab-df-container {\n",
              "      display:flex;\n",
              "      flex-wrap:wrap;\n",
              "      gap: 12px;\n",
              "    }\n",
              "\n",
              "    .colab-df-convert {\n",
              "      background-color: #E8F0FE;\n",
              "      border: none;\n",
              "      border-radius: 50%;\n",
              "      cursor: pointer;\n",
              "      display: none;\n",
              "      fill: #1967D2;\n",
              "      height: 32px;\n",
              "      padding: 0 0 0 0;\n",
              "      width: 32px;\n",
              "    }\n",
              "\n",
              "    .colab-df-convert:hover {\n",
              "      background-color: #E2EBFA;\n",
              "      box-shadow: 0px 1px 2px rgba(60, 64, 67, 0.3), 0px 1px 3px 1px rgba(60, 64, 67, 0.15);\n",
              "      fill: #174EA6;\n",
              "    }\n",
              "\n",
              "    [theme=dark] .colab-df-convert {\n",
              "      background-color: #3B4455;\n",
              "      fill: #D2E3FC;\n",
              "    }\n",
              "\n",
              "    [theme=dark] .colab-df-convert:hover {\n",
              "      background-color: #434B5C;\n",
              "      box-shadow: 0px 1px 3px 1px rgba(0, 0, 0, 0.15);\n",
              "      filter: drop-shadow(0px 1px 2px rgba(0, 0, 0, 0.3));\n",
              "      fill: #FFFFFF;\n",
              "    }\n",
              "  </style>\n",
              "\n",
              "      <script>\n",
              "        const buttonEl =\n",
              "          document.querySelector('#df-7eff1fc4-acf5-4985-a4d2-c5df2a0d683a button.colab-df-convert');\n",
              "        buttonEl.style.display =\n",
              "          google.colab.kernel.accessAllowed ? 'block' : 'none';\n",
              "\n",
              "        async function convertToInteractive(key) {\n",
              "          const element = document.querySelector('#df-7eff1fc4-acf5-4985-a4d2-c5df2a0d683a');\n",
              "          const dataTable =\n",
              "            await google.colab.kernel.invokeFunction('convertToInteractive',\n",
              "                                                     [key], {});\n",
              "          if (!dataTable) return;\n",
              "\n",
              "          const docLinkHtml = 'Like what you see? Visit the ' +\n",
              "            '<a target=\"_blank\" href=https://colab.research.google.com/notebooks/data_table.ipynb>data table notebook</a>'\n",
              "            + ' to learn more about interactive tables.';\n",
              "          element.innerHTML = '';\n",
              "          dataTable['output_type'] = 'display_data';\n",
              "          await google.colab.output.renderOutput(dataTable, element);\n",
              "          const docLink = document.createElement('div');\n",
              "          docLink.innerHTML = docLinkHtml;\n",
              "          element.appendChild(docLink);\n",
              "        }\n",
              "      </script>\n",
              "    </div>\n",
              "  </div>\n",
              "  "
            ],
            "text/plain": [
              "                                                      text  ... commas\n",
              "id                                                          ...       \n",
              "id26305  This process, however, afforded me no means of...  ...      4\n",
              "id17569  It never once occurred to me that the fumbling...  ...      0\n",
              "id11008  In his left hand was a gold snuff box, from wh...  ...      4\n",
              "id27763  How lovely is spring As we looked from Windsor...  ...      3\n",
              "id12958  Finding nothing else, not even gold, the Super...  ...      2\n",
              "\n",
              "[5 rows x 8 columns]"
            ]
          },
          "metadata": {},
          "execution_count": 73
        }
      ]
    },
    {
      "cell_type": "code",
      "source": [
        "#create a pipeline.\n",
        "\n",
        "from sklearn.model_selection import train_test_split\n",
        "\n",
        "features= [c for c in df.columns.values if c  not in ['id','text','author']]\n",
        "numeric_features= [c for c in df.columns.values if c  not in ['id','text','author','processed']]\n",
        "target = 'author'\n",
        "\n",
        "X_train, X_test, y_train, y_test = train_test_split(df[features], df[target], test_size=0.33, random_state=42)\n",
        "X_train.head()"
      ],
      "metadata": {
        "colab": {
          "base_uri": "https://localhost:8080/",
          "height": 237
        },
        "id": "n8fZxrlBQFXj",
        "outputId": "8f77bdfa-5e2e-40d3-9286-e133bf7b19f7"
      },
      "execution_count": 74,
      "outputs": [
        {
          "output_type": "execute_result",
          "data": {
            "text/html": [
              "\n",
              "  <div id=\"df-bf3f2f29-4c50-40e5-9e9e-f9bb52649bf2\">\n",
              "    <div class=\"colab-df-container\">\n",
              "      <div>\n",
              "<style scoped>\n",
              "    .dataframe tbody tr th:only-of-type {\n",
              "        vertical-align: middle;\n",
              "    }\n",
              "\n",
              "    .dataframe tbody tr th {\n",
              "        vertical-align: top;\n",
              "    }\n",
              "\n",
              "    .dataframe thead th {\n",
              "        text-align: right;\n",
              "    }\n",
              "</style>\n",
              "<table border=\"1\" class=\"dataframe\">\n",
              "  <thead>\n",
              "    <tr style=\"text-align: right;\">\n",
              "      <th></th>\n",
              "      <th>processed</th>\n",
              "      <th>length</th>\n",
              "      <th>words</th>\n",
              "      <th>words_not_stopword</th>\n",
              "      <th>avg_word_length</th>\n",
              "      <th>commas</th>\n",
              "    </tr>\n",
              "    <tr>\n",
              "      <th>id</th>\n",
              "      <th></th>\n",
              "      <th></th>\n",
              "      <th></th>\n",
              "      <th></th>\n",
              "      <th></th>\n",
              "      <th></th>\n",
              "    </tr>\n",
              "  </thead>\n",
              "  <tbody>\n",
              "    <tr>\n",
              "      <th>id19417</th>\n",
              "      <td>this panorama is indeed glorious and i should ...</td>\n",
              "      <td>91</td>\n",
              "      <td>18</td>\n",
              "      <td>6</td>\n",
              "      <td>6.666667</td>\n",
              "      <td>1</td>\n",
              "    </tr>\n",
              "    <tr>\n",
              "      <th>id09522</th>\n",
              "      <td>there was a simple natural earnestness about h...</td>\n",
              "      <td>240</td>\n",
              "      <td>44</td>\n",
              "      <td>18</td>\n",
              "      <td>6.277778</td>\n",
              "      <td>4</td>\n",
              "    </tr>\n",
              "    <tr>\n",
              "      <th>id22732</th>\n",
              "      <td>who are you pray that i duc de lomelette princ...</td>\n",
              "      <td>387</td>\n",
              "      <td>74</td>\n",
              "      <td>38</td>\n",
              "      <td>5.552632</td>\n",
              "      <td>9</td>\n",
              "    </tr>\n",
              "    <tr>\n",
              "      <th>id10351</th>\n",
              "      <td>he had gone in the carriage to the nearest tow...</td>\n",
              "      <td>118</td>\n",
              "      <td>24</td>\n",
              "      <td>11</td>\n",
              "      <td>5.363636</td>\n",
              "      <td>0</td>\n",
              "    </tr>\n",
              "    <tr>\n",
              "      <th>id24580</th>\n",
              "      <td>there is no method in their proceedings beyond...</td>\n",
              "      <td>71</td>\n",
              "      <td>13</td>\n",
              "      <td>5</td>\n",
              "      <td>7.000000</td>\n",
              "      <td>1</td>\n",
              "    </tr>\n",
              "  </tbody>\n",
              "</table>\n",
              "</div>\n",
              "      <button class=\"colab-df-convert\" onclick=\"convertToInteractive('df-bf3f2f29-4c50-40e5-9e9e-f9bb52649bf2')\"\n",
              "              title=\"Convert this dataframe to an interactive table.\"\n",
              "              style=\"display:none;\">\n",
              "        \n",
              "  <svg xmlns=\"http://www.w3.org/2000/svg\" height=\"24px\"viewBox=\"0 0 24 24\"\n",
              "       width=\"24px\">\n",
              "    <path d=\"M0 0h24v24H0V0z\" fill=\"none\"/>\n",
              "    <path d=\"M18.56 5.44l.94 2.06.94-2.06 2.06-.94-2.06-.94-.94-2.06-.94 2.06-2.06.94zm-11 1L8.5 8.5l.94-2.06 2.06-.94-2.06-.94L8.5 2.5l-.94 2.06-2.06.94zm10 10l.94 2.06.94-2.06 2.06-.94-2.06-.94-.94-2.06-.94 2.06-2.06.94z\"/><path d=\"M17.41 7.96l-1.37-1.37c-.4-.4-.92-.59-1.43-.59-.52 0-1.04.2-1.43.59L10.3 9.45l-7.72 7.72c-.78.78-.78 2.05 0 2.83L4 21.41c.39.39.9.59 1.41.59.51 0 1.02-.2 1.41-.59l7.78-7.78 2.81-2.81c.8-.78.8-2.07 0-2.86zM5.41 20L4 18.59l7.72-7.72 1.47 1.35L5.41 20z\"/>\n",
              "  </svg>\n",
              "      </button>\n",
              "      \n",
              "  <style>\n",
              "    .colab-df-container {\n",
              "      display:flex;\n",
              "      flex-wrap:wrap;\n",
              "      gap: 12px;\n",
              "    }\n",
              "\n",
              "    .colab-df-convert {\n",
              "      background-color: #E8F0FE;\n",
              "      border: none;\n",
              "      border-radius: 50%;\n",
              "      cursor: pointer;\n",
              "      display: none;\n",
              "      fill: #1967D2;\n",
              "      height: 32px;\n",
              "      padding: 0 0 0 0;\n",
              "      width: 32px;\n",
              "    }\n",
              "\n",
              "    .colab-df-convert:hover {\n",
              "      background-color: #E2EBFA;\n",
              "      box-shadow: 0px 1px 2px rgba(60, 64, 67, 0.3), 0px 1px 3px 1px rgba(60, 64, 67, 0.15);\n",
              "      fill: #174EA6;\n",
              "    }\n",
              "\n",
              "    [theme=dark] .colab-df-convert {\n",
              "      background-color: #3B4455;\n",
              "      fill: #D2E3FC;\n",
              "    }\n",
              "\n",
              "    [theme=dark] .colab-df-convert:hover {\n",
              "      background-color: #434B5C;\n",
              "      box-shadow: 0px 1px 3px 1px rgba(0, 0, 0, 0.15);\n",
              "      filter: drop-shadow(0px 1px 2px rgba(0, 0, 0, 0.3));\n",
              "      fill: #FFFFFF;\n",
              "    }\n",
              "  </style>\n",
              "\n",
              "      <script>\n",
              "        const buttonEl =\n",
              "          document.querySelector('#df-bf3f2f29-4c50-40e5-9e9e-f9bb52649bf2 button.colab-df-convert');\n",
              "        buttonEl.style.display =\n",
              "          google.colab.kernel.accessAllowed ? 'block' : 'none';\n",
              "\n",
              "        async function convertToInteractive(key) {\n",
              "          const element = document.querySelector('#df-bf3f2f29-4c50-40e5-9e9e-f9bb52649bf2');\n",
              "          const dataTable =\n",
              "            await google.colab.kernel.invokeFunction('convertToInteractive',\n",
              "                                                     [key], {});\n",
              "          if (!dataTable) return;\n",
              "\n",
              "          const docLinkHtml = 'Like what you see? Visit the ' +\n",
              "            '<a target=\"_blank\" href=https://colab.research.google.com/notebooks/data_table.ipynb>data table notebook</a>'\n",
              "            + ' to learn more about interactive tables.';\n",
              "          element.innerHTML = '';\n",
              "          dataTable['output_type'] = 'display_data';\n",
              "          await google.colab.output.renderOutput(dataTable, element);\n",
              "          const docLink = document.createElement('div');\n",
              "          docLink.innerHTML = docLinkHtml;\n",
              "          element.appendChild(docLink);\n",
              "        }\n",
              "      </script>\n",
              "    </div>\n",
              "  </div>\n",
              "  "
            ],
            "text/plain": [
              "                                                 processed  ...  commas\n",
              "id                                                          ...        \n",
              "id19417  this panorama is indeed glorious and i should ...  ...       1\n",
              "id09522  there was a simple natural earnestness about h...  ...       4\n",
              "id22732  who are you pray that i duc de lomelette princ...  ...       9\n",
              "id10351  he had gone in the carriage to the nearest tow...  ...       0\n",
              "id24580  there is no method in their proceedings beyond...  ...       1\n",
              "\n",
              "[5 rows x 6 columns]"
            ]
          },
          "metadata": {},
          "execution_count": 74
        }
      ]
    },
    {
      "cell_type": "markdown",
      "source": [
        "### Preprocess the data\n"
      ],
      "metadata": {
        "id": "UQRzecibQQNV"
      }
    },
    {
      "cell_type": "code",
      "source": [
        "from sklearn.base import BaseEstimator, TransformerMixin\n",
        "\n",
        "class TextSelector(BaseEstimator, TransformerMixin):\n",
        "    \"\"\"\n",
        "    Transformer to select a single column from the data frame to perform additional transformations on\n",
        "    Use on text columns in the data\n",
        "    \"\"\"\n",
        "    def __init__(self, key):\n",
        "        self.key = key\n",
        "\n",
        "    def fit(self, X, y=None):\n",
        "        return self\n",
        "\n",
        "    def transform(self, X):\n",
        "        return X[self.key]\n",
        "    \n",
        "class NumberSelector(BaseEstimator, TransformerMixin):\n",
        "    \"\"\"\n",
        "    Transformer to select a single column from the data frame to perform additional transformations on\n",
        "    Use on numeric columns in the data\n",
        "    \"\"\"\n",
        "    def __init__(self, key):\n",
        "        self.key = key\n",
        "\n",
        "    def fit(self, X, y=None):\n",
        "        return self\n",
        "\n",
        "    def transform(self, X):\n",
        "        return X[[self.key]]\n",
        "\n",
        "from sklearn.pipeline import Pipeline\n",
        "from sklearn.feature_extraction.text import TfidfVectorizer\n",
        "\n",
        "text = Pipeline([\n",
        "                ('selector', TextSelector(key='processed')),\n",
        "                ('tfidf', TfidfVectorizer( stop_words='english'))\n",
        "            ])\n",
        "\n",
        "text.fit_transform(X_train)\n",
        "\n",
        "from sklearn.preprocessing import StandardScaler\n",
        "\n",
        "length =  Pipeline([\n",
        "                ('selector', NumberSelector(key='length')),\n",
        "                ('standard', StandardScaler())\n",
        "            ])\n",
        "\n",
        "length.fit_transform(X_train)"
      ],
      "metadata": {
        "colab": {
          "base_uri": "https://localhost:8080/"
        },
        "id": "ilhj06kcQSx7",
        "outputId": "d6f1bf70-a29d-4d13-90a0-77b2f8a167f8"
      },
      "execution_count": 77,
      "outputs": [
        {
          "output_type": "execute_result",
          "data": {
            "text/plain": [
              "array([[-0.50769254],\n",
              "       [ 0.88000324],\n",
              "       [ 2.24907223],\n",
              "       ...,\n",
              "       [-0.46112557],\n",
              "       [-0.14447015],\n",
              "       [-0.39593181]])"
            ]
          },
          "metadata": {},
          "execution_count": 77
        }
      ]
    },
    {
      "cell_type": "code",
      "source": [
        "words =  Pipeline([\n",
        "                ('selector', NumberSelector(key='words')),\n",
        "                ('standard', StandardScaler())\n",
        "            ])\n",
        "words_not_stopword =  Pipeline([\n",
        "                ('selector', NumberSelector(key='words_not_stopword')),\n",
        "                ('standard', StandardScaler())\n",
        "            ])\n",
        "avg_word_length =  Pipeline([\n",
        "                ('selector', NumberSelector(key='avg_word_length')),\n",
        "                ('standard', StandardScaler())\n",
        "            ])\n",
        "commas =  Pipeline([\n",
        "                ('selector', NumberSelector(key='commas')),\n",
        "                ('standard', StandardScaler()),\n",
        "            ])"
      ],
      "metadata": {
        "id": "Flrt6XkeQc6j"
      },
      "execution_count": 78,
      "outputs": []
    },
    {
      "cell_type": "code",
      "source": [
        "#make a pipeline from all of our pipelines\n",
        "\n",
        "from sklearn.pipeline import FeatureUnion\n",
        "\n",
        "feats = FeatureUnion([('text', text), \n",
        "                      ('length', length),\n",
        "                      ('words', words),\n",
        "                      ('words_not_stopword', words_not_stopword),\n",
        "                      ('avg_word_length', avg_word_length),\n",
        "                      ('commas', commas)])\n",
        "\n",
        "feature_processing = Pipeline([('feats', feats)])\n",
        "feature_processing.fit_transform(X_train)"
      ],
      "metadata": {
        "colab": {
          "base_uri": "https://localhost:8080/"
        },
        "id": "2tSGpEp9Qi5-",
        "outputId": "9e23ceb1-b20a-4fe3-cb7b-74cba81b8915"
      },
      "execution_count": 79,
      "outputs": [
        {
          "output_type": "execute_result",
          "data": {
            "text/plain": [
              "<13117x21521 sparse matrix of type '<class 'numpy.float64'>'\n",
              "\twith 213646 stored elements in Compressed Sparse Row format>"
            ]
          },
          "metadata": {},
          "execution_count": 79
        }
      ]
    },
    {
      "cell_type": "code",
      "source": [
        "#calculate raw accuracy\n",
        "\n",
        "from sklearn.ensemble import RandomForestClassifier\n",
        "\n",
        "pipeline = Pipeline([\n",
        "    ('features',feats),\n",
        "    ('classifier', RandomForestClassifier(random_state = 42)),\n",
        "])\n",
        "\n",
        "pipeline.fit(X_train, y_train)\n",
        "\n",
        "preds = pipeline.predict(X_test)\n",
        "np.mean(preds == y_test)"
      ],
      "metadata": {
        "colab": {
          "base_uri": "https://localhost:8080/"
        },
        "id": "VRmObq6pQtaP",
        "outputId": "de1d43c0-b204-46a5-b090-e722f9c7e869"
      },
      "execution_count": 80,
      "outputs": [
        {
          "output_type": "execute_result",
          "data": {
            "text/plain": [
              "0.6792014856081708"
            ]
          },
          "metadata": {},
          "execution_count": 80
        }
      ]
    },
    {
      "cell_type": "code",
      "source": [
        "#cross validation to find the best pipeline\n",
        "\n",
        "pipeline.get_params().keys()\n",
        "\n",
        "from sklearn.model_selection import GridSearchCV\n",
        "\n",
        "hyperparameters = { 'features__text__tfidf__max_df': [0.9, 0.95],\n",
        "                    'features__text__tfidf__ngram_range': [(1,1), (1,2)],\n",
        "                   'classifier__max_depth': [50, 70],\n",
        "                    'classifier__min_samples_leaf': [1,2]\n",
        "                  }\n",
        "clf = GridSearchCV(pipeline, hyperparameters, cv=5)\n",
        " \n",
        "# Fit and tune model\n",
        "clf.fit(X_train, y_train)"
      ],
      "metadata": {
        "colab": {
          "base_uri": "https://localhost:8080/"
        },
        "id": "ZlB7fle5Qyl6",
        "outputId": "6930ec59-7fd4-47cd-b6e5-5caad8c916cc"
      },
      "execution_count": 83,
      "outputs": [
        {
          "output_type": "execute_result",
          "data": {
            "text/plain": [
              "GridSearchCV(cv=5,\n",
              "             estimator=Pipeline(steps=[('features',\n",
              "                                        FeatureUnion(transformer_list=[('text',\n",
              "                                                                        Pipeline(steps=[('selector',\n",
              "                                                                                         TextSelector(key='processed')),\n",
              "                                                                                        ('tfidf',\n",
              "                                                                                         TfidfVectorizer(stop_words='english'))])),\n",
              "                                                                       ('length',\n",
              "                                                                        Pipeline(steps=[('selector',\n",
              "                                                                                         NumberSelector(key='length')),\n",
              "                                                                                        ('standard',\n",
              "                                                                                         StandardScaler())])),\n",
              "                                                                       ('words',\n",
              "                                                                        Pipeline(steps=[('selector',\n",
              "                                                                                         NumberS...\n",
              "                                                                                         StandardScaler())])),\n",
              "                                                                       ('commas',\n",
              "                                                                        Pipeline(steps=[('selector',\n",
              "                                                                                         NumberSelector(key='commas')),\n",
              "                                                                                        ('standard',\n",
              "                                                                                         StandardScaler())]))])),\n",
              "                                       ('classifier',\n",
              "                                        RandomForestClassifier(random_state=42))]),\n",
              "             param_grid={'classifier__max_depth': [50, 70],\n",
              "                         'classifier__min_samples_leaf': [1, 2],\n",
              "                         'features__text__tfidf__max_df': [0.9, 0.95],\n",
              "                         'features__text__tfidf__ngram_range': [(1, 1),\n",
              "                                                                (1, 2)]})"
            ]
          },
          "metadata": {},
          "execution_count": 83
        }
      ]
    },
    {
      "cell_type": "code",
      "source": [
        "clf.best_params_\n",
        "\n",
        "#refitting on entire training data using best settings\n",
        "clf.refit\n",
        "\n",
        "preds = clf.predict(X_test)\n",
        "probs = clf.predict_proba(X_test)\n",
        "\n",
        "np.mean(preds == y_test)"
      ],
      "metadata": {
        "colab": {
          "base_uri": "https://localhost:8080/"
        },
        "id": "PzRKB5duQ9YR",
        "outputId": "47650589-fd3a-4669-8f07-5b3b8f6022bd"
      },
      "execution_count": 84,
      "outputs": [
        {
          "output_type": "execute_result",
          "data": {
            "text/plain": [
              "0.6627978953884246"
            ]
          },
          "metadata": {},
          "execution_count": 84
        }
      ]
    },
    {
      "cell_type": "code",
      "source": [
        "#evaluate on test dataset\n",
        "\n",
        "submission = pd.read_csv('test_spooky.csv')\n",
        "\n",
        "#preprocessing\n",
        "submission = processing(submission)\n",
        "predictions = clf.predict_proba(submission)\n",
        "\n",
        "preds = pd.DataFrame(data=predictions, columns = clf.best_estimator_.named_steps['classifier'].classes_)\n",
        "\n",
        "#generating a submission file\n",
        "result = pd.concat([submission[['id']], preds], axis=1)\n",
        "result.set_index('id', inplace = True)\n",
        "result.head()"
      ],
      "metadata": {
        "colab": {
          "base_uri": "https://localhost:8080/",
          "height": 237
        },
        "id": "FVidfuouRKce",
        "outputId": "a332522a-5d18-4f74-8a4e-1956c4a1339d"
      },
      "execution_count": 85,
      "outputs": [
        {
          "output_type": "execute_result",
          "data": {
            "text/html": [
              "\n",
              "  <div id=\"df-f2b540a1-6fb1-4920-be3c-09cf73866d45\">\n",
              "    <div class=\"colab-df-container\">\n",
              "      <div>\n",
              "<style scoped>\n",
              "    .dataframe tbody tr th:only-of-type {\n",
              "        vertical-align: middle;\n",
              "    }\n",
              "\n",
              "    .dataframe tbody tr th {\n",
              "        vertical-align: top;\n",
              "    }\n",
              "\n",
              "    .dataframe thead th {\n",
              "        text-align: right;\n",
              "    }\n",
              "</style>\n",
              "<table border=\"1\" class=\"dataframe\">\n",
              "  <thead>\n",
              "    <tr style=\"text-align: right;\">\n",
              "      <th></th>\n",
              "      <th>EAP</th>\n",
              "      <th>HPL</th>\n",
              "      <th>MWS</th>\n",
              "    </tr>\n",
              "    <tr>\n",
              "      <th>id</th>\n",
              "      <th></th>\n",
              "      <th></th>\n",
              "      <th></th>\n",
              "    </tr>\n",
              "  </thead>\n",
              "  <tbody>\n",
              "    <tr>\n",
              "      <th>id02310</th>\n",
              "      <td>0.282536</td>\n",
              "      <td>0.260946</td>\n",
              "      <td>0.456518</td>\n",
              "    </tr>\n",
              "    <tr>\n",
              "      <th>id24541</th>\n",
              "      <td>0.581561</td>\n",
              "      <td>0.189180</td>\n",
              "      <td>0.229259</td>\n",
              "    </tr>\n",
              "    <tr>\n",
              "      <th>id00134</th>\n",
              "      <td>0.341303</td>\n",
              "      <td>0.449904</td>\n",
              "      <td>0.208792</td>\n",
              "    </tr>\n",
              "    <tr>\n",
              "      <th>id27757</th>\n",
              "      <td>0.528043</td>\n",
              "      <td>0.232676</td>\n",
              "      <td>0.239282</td>\n",
              "    </tr>\n",
              "    <tr>\n",
              "      <th>id04081</th>\n",
              "      <td>0.552280</td>\n",
              "      <td>0.196810</td>\n",
              "      <td>0.250910</td>\n",
              "    </tr>\n",
              "  </tbody>\n",
              "</table>\n",
              "</div>\n",
              "      <button class=\"colab-df-convert\" onclick=\"convertToInteractive('df-f2b540a1-6fb1-4920-be3c-09cf73866d45')\"\n",
              "              title=\"Convert this dataframe to an interactive table.\"\n",
              "              style=\"display:none;\">\n",
              "        \n",
              "  <svg xmlns=\"http://www.w3.org/2000/svg\" height=\"24px\"viewBox=\"0 0 24 24\"\n",
              "       width=\"24px\">\n",
              "    <path d=\"M0 0h24v24H0V0z\" fill=\"none\"/>\n",
              "    <path d=\"M18.56 5.44l.94 2.06.94-2.06 2.06-.94-2.06-.94-.94-2.06-.94 2.06-2.06.94zm-11 1L8.5 8.5l.94-2.06 2.06-.94-2.06-.94L8.5 2.5l-.94 2.06-2.06.94zm10 10l.94 2.06.94-2.06 2.06-.94-2.06-.94-.94-2.06-.94 2.06-2.06.94z\"/><path d=\"M17.41 7.96l-1.37-1.37c-.4-.4-.92-.59-1.43-.59-.52 0-1.04.2-1.43.59L10.3 9.45l-7.72 7.72c-.78.78-.78 2.05 0 2.83L4 21.41c.39.39.9.59 1.41.59.51 0 1.02-.2 1.41-.59l7.78-7.78 2.81-2.81c.8-.78.8-2.07 0-2.86zM5.41 20L4 18.59l7.72-7.72 1.47 1.35L5.41 20z\"/>\n",
              "  </svg>\n",
              "      </button>\n",
              "      \n",
              "  <style>\n",
              "    .colab-df-container {\n",
              "      display:flex;\n",
              "      flex-wrap:wrap;\n",
              "      gap: 12px;\n",
              "    }\n",
              "\n",
              "    .colab-df-convert {\n",
              "      background-color: #E8F0FE;\n",
              "      border: none;\n",
              "      border-radius: 50%;\n",
              "      cursor: pointer;\n",
              "      display: none;\n",
              "      fill: #1967D2;\n",
              "      height: 32px;\n",
              "      padding: 0 0 0 0;\n",
              "      width: 32px;\n",
              "    }\n",
              "\n",
              "    .colab-df-convert:hover {\n",
              "      background-color: #E2EBFA;\n",
              "      box-shadow: 0px 1px 2px rgba(60, 64, 67, 0.3), 0px 1px 3px 1px rgba(60, 64, 67, 0.15);\n",
              "      fill: #174EA6;\n",
              "    }\n",
              "\n",
              "    [theme=dark] .colab-df-convert {\n",
              "      background-color: #3B4455;\n",
              "      fill: #D2E3FC;\n",
              "    }\n",
              "\n",
              "    [theme=dark] .colab-df-convert:hover {\n",
              "      background-color: #434B5C;\n",
              "      box-shadow: 0px 1px 3px 1px rgba(0, 0, 0, 0.15);\n",
              "      filter: drop-shadow(0px 1px 2px rgba(0, 0, 0, 0.3));\n",
              "      fill: #FFFFFF;\n",
              "    }\n",
              "  </style>\n",
              "\n",
              "      <script>\n",
              "        const buttonEl =\n",
              "          document.querySelector('#df-f2b540a1-6fb1-4920-be3c-09cf73866d45 button.colab-df-convert');\n",
              "        buttonEl.style.display =\n",
              "          google.colab.kernel.accessAllowed ? 'block' : 'none';\n",
              "\n",
              "        async function convertToInteractive(key) {\n",
              "          const element = document.querySelector('#df-f2b540a1-6fb1-4920-be3c-09cf73866d45');\n",
              "          const dataTable =\n",
              "            await google.colab.kernel.invokeFunction('convertToInteractive',\n",
              "                                                     [key], {});\n",
              "          if (!dataTable) return;\n",
              "\n",
              "          const docLinkHtml = 'Like what you see? Visit the ' +\n",
              "            '<a target=\"_blank\" href=https://colab.research.google.com/notebooks/data_table.ipynb>data table notebook</a>'\n",
              "            + ' to learn more about interactive tables.';\n",
              "          element.innerHTML = '';\n",
              "          dataTable['output_type'] = 'display_data';\n",
              "          await google.colab.output.renderOutput(dataTable, element);\n",
              "          const docLink = document.createElement('div');\n",
              "          docLink.innerHTML = docLinkHtml;\n",
              "          element.appendChild(docLink);\n",
              "        }\n",
              "      </script>\n",
              "    </div>\n",
              "  </div>\n",
              "  "
            ],
            "text/plain": [
              "              EAP       HPL       MWS\n",
              "id                                   \n",
              "id02310  0.282536  0.260946  0.456518\n",
              "id24541  0.581561  0.189180  0.229259\n",
              "id00134  0.341303  0.449904  0.208792\n",
              "id27757  0.528043  0.232676  0.239282\n",
              "id04081  0.552280  0.196810  0.250910"
            ]
          },
          "metadata": {},
          "execution_count": 85
        }
      ]
    },
    {
      "cell_type": "code",
      "source": [
        "result.shape"
      ],
      "metadata": {
        "colab": {
          "base_uri": "https://localhost:8080/"
        },
        "id": "kyR3zhP6WKwE",
        "outputId": "e1fd8ddc-bddb-452b-d043-0545d734efd4"
      },
      "execution_count": 86,
      "outputs": [
        {
          "output_type": "execute_result",
          "data": {
            "text/plain": [
              "(8392, 3)"
            ]
          },
          "metadata": {},
          "execution_count": 86
        }
      ]
    },
    {
      "cell_type": "code",
      "source": [
        ""
      ],
      "metadata": {
        "id": "bb9IdzErWMOe"
      },
      "execution_count": null,
      "outputs": []
    }
  ]
}